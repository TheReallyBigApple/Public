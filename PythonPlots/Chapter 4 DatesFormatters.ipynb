{
 "cells": [
  {
   "cell_type": "markdown",
   "metadata": {},
   "source": [
    "\n",
    "<br><br>\n",
    "\n",
    "***\n",
    "\n",
    "<br><br>\n",
    "\n",
    "\n",
    "<center><font size=\"7\" color=\"purple\">Chapter 4 Dates, Locators and Formatters</font></center>\n",
    "\n",
    "<br><br>\n",
    "\n",
    "***\n",
    "\n",
    "\n",
    "<br><br><br><br>\n",
    "\n",
    "<pre>\n",
    "    1)  dates\n",
    "    2) Locators and Formatters\n",
    "</pre>\n",
    "\n",
    "<br><br><br><br>"
   ]
  },
  {
   "cell_type": "markdown",
   "metadata": {},
   "source": [
    "<center><strong>Locators</strong></center>\n",
    "<table border=\"1\">\n",
    "<colgroup>\n",
    "<col width=\"30%\" />\n",
    "<col width=\"70%\" />\n",
    "</colgroup>\n",
    "<thead>\n",
    "\n",
    "<tr>\n",
    "    <th>Locator Class</th>\n",
    "    <th>Description</th>\n",
    "</tr>\n",
    "</thead>\n",
    "    \n",
    "<tbody>\n",
    "<tr><td>NullLocator</td>\n",
    "<td>No ticks</td>\n",
    "</tr>\n",
    "<tr><td>FixedLocator</td>\n",
    "<td>Tick locations are fixed</td>\n",
    "</tr>\n",
    "<tr><td>IndexLocator</td>\n",
    "<td>Locator for index plots (e.g., where x = range(len(y)))</td>\n",
    "</tr>\n",
    "<tr>\n",
    "    <td>LinearLocator</td>\n",
    "    <td>Evenly spaced from min to max</td>\n",
    "</tr>\n",
    "<tr>\n",
    "    <td>LogLocator</td>\n",
    "    <td>Logarithmically ticks from min to max</td>\n",
    "</tr>\n",
    "<tr>\n",
    "    <td>MultipleLocator</td>\n",
    "    <td>Ticks and range are a multiple of base</td>\n",
    "</tr>\n",
    "<tr>\n",
    "    <td>MaxNLocator</td>\n",
    "    <td>Finds N ticks at nice locations</td>\n",
    "</tr>\n",
    "</tbody>\n",
    "</table>"
   ]
  },
  {
   "cell_type": "markdown",
   "metadata": {},
   "source": [
    "<center><strong>Formatters</strong></center>\n",
    "<table border=\"1\">\n",
    "<colgroup>\n",
    "<col width=\"30%\" />\n",
    "<col width=\"70%\" />\n",
    "</colgroup>\n",
    "<thead>\n",
    "\n",
    "<tr>\n",
    "    <th>Formatter Class</th>\n",
    "    <th>Description</th>\n",
    "</tr>\n",
    "</thead>\n",
    "    \n",
    "<tbody>\n",
    "<tr><td>NullFormatter</td>\n",
    "<td>No labels</td>\n",
    "</tr>\n",
    "<tr><td>FixedFormatter</td>\n",
    "<td>Set strings manually</td>\n",
    "</tr>\n",
    "<tr><td>IndexFormatter</td>\n",
    "<td>Set from a list of labels</td>\n",
    "</tr>\n",
    "<tr>\n",
    "    <td>FuncFormatter</td>\n",
    "    <td>User-defined function sets the labels</td>\n",
    "</tr>\n",
    "<tr>\n",
    "    <td>LogFormatter</td>\n",
    "    <td>Default formatter for log axes</td>\n",
    "</tr>\n",
    "<tr>\n",
    "    <td>FormatStrFormatter</td>\n",
    "    <td>Use a format string for each value</td>\n",
    "</tr>\n",
    "<tr>\n",
    "    <td>ScalarFormatter</td>\n",
    "    <td>(Default) Formatter for scalar values</td>\n",
    "</tr>\n",
    "</tbody>\n",
    "</table>"
   ]
  },
  {
   "cell_type": "markdown",
   "metadata": {},
   "source": [
    "note pandas datetime is different from datetime, there is an example in Chapter 3 Annotations"
   ]
  },
  {
   "cell_type": "code",
   "execution_count": 24,
   "metadata": {},
   "outputs": [],
   "source": [
    "import matplotlib as mpl \n",
    "import matplotlib.pyplot as plt \n",
    "import numpy as np \n",
    "import datetime as dt "
   ]
  },
  {
   "cell_type": "markdown",
   "metadata": {},
   "source": [
    "to remove all ticks set the locator and formatter to null"
   ]
  },
  {
   "cell_type": "code",
   "execution_count": 25,
   "metadata": {},
   "outputs": [
    {
     "data": {
      "image/png": "[encoded data removed]",
      "text/plain": [
       "<Figure size 432x288 with 1 Axes>"
      ]
     },
     "metadata": {
      "needs_background": "light"
     },
     "output_type": "display_data"
    }
   ],
   "source": [
    "\n",
    "ax = plt.axes()\n",
    "ax.plot(np.random.rand(50))\n",
    "\n",
    "ax.yaxis.set_major_locator(plt.NullLocator())\n",
    "ax.xaxis.set_major_formatter(plt.NullFormatter())"
   ]
  },
  {
   "cell_type": "markdown",
   "metadata": {},
   "source": [
    "datetime has useful to create ranges"
   ]
  },
  {
   "cell_type": "code",
   "execution_count": 26,
   "metadata": {},
   "outputs": [
    {
     "name": "stdout",
     "output_type": "stream",
     "text": [
      "One date time object  2021-12-17 09:52:34.636849\n",
      "Ranging from  12/17/2021  to  12/26/2021\n"
     ]
    }
   ],
   "source": [
    "dates = [dt.datetime.today() + dt.timedelta(days=i) for i in range(10)] \n",
    "values = np.random.rand(len(dates))\n",
    "print(\"One date time object \", dates[0])\n",
    "print(\"Ranging from \", dates[0].strftime(\"%m/%d/%Y\"), \" to \", dates[9].strftime(\"%m/%d/%Y\"))"
   ]
  },
  {
   "cell_type": "markdown",
   "metadata": {},
   "source": [
    "matplotlib has a dates class...and a timedelta class"
   ]
  },
  {
   "cell_type": "code",
   "execution_count": 27,
   "metadata": {},
   "outputs": [],
   "source": [
    "date2_1 = dt.datetime(2008, 9, 23)\n",
    "date2_2 = dt.datetime(2008, 10, 3)\n",
    "delta2 = dt.timedelta(days=1)                           # <class 'datetime.timedelta'>\n",
    "dates2 = mpl.dates.drange(date2_1, date2_2, delta2)  # dates2 is a numpy.ndarray of numpy.float64\n",
    "y2 = np.random.rand(len(dates2))"
   ]
  },
  {
   "cell_type": "markdown",
   "metadata": {},
   "source": [
    "DateFormatter"
   ]
  },
  {
   "cell_type": "code",
   "execution_count": 28,
   "metadata": {},
   "outputs": [],
   "source": [
    "dateFmt = mpl.dates.DateFormatter('%Y-%m-%d')"
   ]
  },
  {
   "cell_type": "markdown",
   "metadata": {},
   "source": [
    "Day and Hour Locator.. note we havent done any plotting yet"
   ]
  },
  {
   "cell_type": "code",
   "execution_count": 29,
   "metadata": {},
   "outputs": [],
   "source": [
    "daysLoc = mpl.dates.DayLocator()\n",
    "hoursLoc = mpl.dates.HourLocator(interval=6)   # every 6 hours, will be the minor formatter, the small ticks"
   ]
  },
  {
   "cell_type": "markdown",
   "metadata": {},
   "source": [
    "Now create dates, locators, formatters for a second axes"
   ]
  },
  {
   "cell_type": "code",
   "execution_count": 30,
   "metadata": {},
   "outputs": [],
   "source": [
    "date1_1 = dt.datetime(2008, 9, 23)\n",
    "date1_2 = dt.datetime(2009, 2, 16)\n",
    "delta1 = dt.timedelta(days=10)\n",
    "dates1 = mpl.dates.drange(date1_1, date1_2, delta1)\n",
    "y1 = np.random.rand(len(dates1))\n",
    "monthsLoc = mpl.dates.MonthLocator(interval=2)         # every 2 months\n",
    "weeksLoc = mpl.dates.WeekdayLocator()\n",
    "monthsFmt = mpl.dates.DateFormatter('%B')           # October November December"
   ]
  },
  {
   "cell_type": "markdown",
   "metadata": {},
   "source": [
    "Now do the actual plotting"
   ]
  },
  {
   "cell_type": "code",
   "execution_count": 31,
   "metadata": {},
   "outputs": [
    {
     "data": {
      "image/png": "[encoded data removed]",
      "text/plain": [
       "<Figure size 432x288 with 2 Axes>"
      ]
     },
     "metadata": {
      "needs_background": "light"
     },
     "output_type": "display_data"
    }
   ],
   "source": [
    "fig = plt.figure()\n",
    "ax2 = fig.add_subplot(212)\n",
    "\n",
    "ax2.plot_date(dates2, y2, linestyle='-')\n",
    "\n",
    "ax2.xaxis.set_major_formatter(dateFmt)\n",
    "\n",
    "ax2.xaxis.set_major_locator(daysLoc)\n",
    "ax2.xaxis.set_minor_locator(hoursLoc)\n",
    "\n",
    "\n",
    "fig.autofmt_xdate(bottom=0.08)    # scrunch the height\n",
    "fig.subplots_adjust(left=0.18)    # scrunches the width\n",
    "ax1 = fig.add_subplot(211)\n",
    "ax1.plot_date(dates1, y1, linestyle='-')\n",
    "ax1.xaxis.set_major_locator(monthsLoc)\n",
    "ax1.xaxis.set_minor_locator(weeksLoc)\n",
    "ax1.xaxis.set_major_formatter(monthsFmt)\n",
    "plt.show()"
   ]
  },
  {
   "cell_type": "markdown",
   "metadata": {},
   "source": [
    "note plot_date and plot both work\n",
    "als note you can plot first, and set locators second"
   ]
  },
  {
   "cell_type": "code",
   "execution_count": 32,
   "metadata": {},
   "outputs": [
    {
     "data": {
      "image/png": "[encoded data removed]",
      "text/plain": [
       "<Figure size 432x288 with 1 Axes>"
      ]
     },
     "metadata": {
      "needs_background": "light"
     },
     "output_type": "display_data"
    }
   ],
   "source": [
    "\n",
    "#  basic example of Oct, Nov, Dec, Jan, Feb\n",
    "\n",
    "fig = plt.figure()\n",
    "ax = fig.add_subplot(111)\n",
    "\n",
    "date1_1 = dt.datetime(2008, 9, 23)\n",
    "date1_2 = dt.datetime(2009, 2, 16)\n",
    "delta1 = dt.timedelta(days=10)       # special object to contain the delta\n",
    "dates1 = mpl.dates.drange(date1_1, date1_2, delta1)   # creates the date range\n",
    "y1 = np.random.rand(len(dates1))\n",
    "\n",
    "\n",
    "ax.plot(dates1, y1, linestyle='-')\n",
    "\n",
    "monthsLoc = mpl.dates.MonthLocator()     # figures out the months for you\n",
    "weeksLoc = mpl.dates.WeekdayLocator()    # figures out the weeks for you\n",
    "ax.xaxis.set_major_locator(monthsLoc)    # big ticks for lables\n",
    "ax.xaxis.set_minor_locator(weeksLoc)     # small ticks\n",
    "monthsFmt = mpl.dates.DateFormatter('%b')   # lower case for  \"Feb\" upper case for \"February\"\n",
    "ax.xaxis.set_major_formatter(monthsFmt)   # format labels on big ticks\n",
    "plt.show()"
   ]
  },
  {
   "cell_type": "code",
   "execution_count": 33,
   "metadata": {},
   "outputs": [
    {
     "data": {
      "image/png": "[encoded data removed]",
      "text/plain": [
       "<Figure size 432x288 with 16 Axes>"
      ]
     },
     "metadata": {
      "needs_background": "light"
     },
     "output_type": "display_data"
    }
   ],
   "source": [
    "# MaxNLocator can be used to let matplotlib figure out the x and  y units\n",
    "fig, ax = plt.subplots(4, 4, sharex=True, sharey=True)\n",
    "\n",
    "for axi in ax.flat:\n",
    "           axi.xaxis.set_major_locator(plt.MaxNLocator(3))\n",
    "           axi.yaxis.set_major_locator(plt.MaxNLocator(3))\n",
    "           "
   ]
  },
  {
   "cell_type": "markdown",
   "metadata": {},
   "source": []
  }
 ],
 "metadata": {
  "kernelspec": {
   "display_name": "Python 3",
   "language": "python",
   "name": "python3"
  },
  "language_info": {
   "codemirror_mode": {
    "name": "ipython",
    "version": 3
   },
   "file_extension": ".py",
   "mimetype": "text/x-python",
   "name": "python",
   "nbconvert_exporter": "python",
   "pygments_lexer": "ipython3",
   "version": "3.8.5"
  },
  "toc": {
   "base_numbering": 1,
   "nav_menu": {},
   "number_sections": true,
   "sideBar": true,
   "skip_h1_title": false,
   "title_cell": "Table of Contents",
   "title_sidebar": "Contents",
   "toc_cell": false,
   "toc_position": {},
   "toc_section_display": true,
   "toc_window_display": false
  },
  "varInspector": {
   "cols": {
    "lenName": 16,
    "lenType": 16,
    "lenVar": 40
   },
   "kernels_config": {
    "python": {
     "delete_cmd_postfix": "",
     "delete_cmd_prefix": "del ",
     "library": "var_list.py",
     "varRefreshCmd": "print(var_dic_list())"
    },
    "r": {
     "delete_cmd_postfix": ") ",
     "delete_cmd_prefix": "rm(",
     "library": "var_list.r",
     "varRefreshCmd": "cat(var_dic_list()) "
    }
   },
   "types_to_exclude": [
    "module",
    "function",
    "builtin_function_or_method",
    "instance",
    "_Feature"
   ],
   "window_display": false
  }
 },
 "nbformat": 4,
 "nbformat_minor": 4
}

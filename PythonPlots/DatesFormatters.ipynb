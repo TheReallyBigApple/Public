{
 "cells": [
  {
   "cell_type": "markdown",
   "metadata": {},
   "source": [
    "\n",
    "<br><br>\n",
    "\n",
    "***\n",
    "\n",
    "<br><br>\n",
    "\n",
    "\n",
    "<center><font size=\"7\" color=\"purple\">Dates, Locators and Formatters</font></center>\n",
    "\n",
    "<br><br>\n",
    "\n",
    "***\n",
    "\n",
    "\n",
    "<br><br><br><br>\n",
    "\n",
    "\n",
    "\n",
    "\n",
    "### Table of Contents\n",
    "\n",
    "* [datetime review](#datetime)\n",
    "* [matplotlib.dates](#dates)\n",
    "* [Format Dates](#formatdates)\n",
    "* [Reference](#reference)\n",
    "\n",
    "\n",
    "\n",
    "<br><br><br><br>"
   ]
  },
  {
   "cell_type": "code",
   "execution_count": 176,
   "metadata": {},
   "outputs": [],
   "source": [
    "import matplotlib as mpl \n",
    "import matplotlib.pyplot as plt \n",
    "import numpy as np \n",
    "import datetime\n",
    "import pandas as pd"
   ]
  },
  {
   "cell_type": "markdown",
   "metadata": {},
   "source": [
    "<br><br>\n",
    "\n",
    "<font size=\"4\" color=\"red\">datetime Review</font><a class=\"anchor\" id=\"datetime\"></a>\n",
    "\n",
    "<br><br>"
   ]
  },
  {
   "cell_type": "code",
   "execution_count": 177,
   "metadata": {},
   "outputs": [
    {
     "name": "stdout",
     "output_type": "stream",
     "text": [
      "now as a datetime object:  2022-07-17 13:21:23.026416\n",
      "now converted to string and formatted by strftime: 07/17/2022, 13:21:23\n",
      "new now stripped of the time stamp: 2022-07-17 00:00:00\n"
     ]
    }
   ],
   "source": [
    "now = datetime.datetime.now()        # class 'datetime.datetime\n",
    "\n",
    "print(\"now as a datetime object: \", now)\n",
    "\n",
    "date_time = now.strftime(\"%m/%d/%Y, %H:%M:%S\")\n",
    "\n",
    "print(\"now converted to string and formatted by strftime:\",date_time)\n",
    "\n",
    "newnow = datetime.datetime.strptime(now.strftime(\"%Y-%m-%d\"), \"%Y-%m-%d\")  # formats must match\n",
    "\n",
    "print(\"new now stripped of the time stamp:\",newnow)"
   ]
  },
  {
   "cell_type": "markdown",
   "metadata": {},
   "source": [
    "<br>\n",
    "\n",
    "The timedelta function can take any or all of these\n",
    "\n",
    "<pre>\n",
    "\n",
    "                 timedelta(days=0, seconds=0, microseconds=0, milliseconds=0, minutes=0, hours=0, weeks=0)\n",
    "\n",
    "</pre>\n",
    "\n"
   ]
  },
  {
   "cell_type": "code",
   "execution_count": 178,
   "metadata": {},
   "outputs": [
    {
     "name": "stdout",
     "output_type": "stream",
     "text": [
      "A delta of 1 year:  365 days, 6:00:00\n"
     ]
    }
   ],
   "source": [
    "delta_year = datetime.timedelta(days = 365, hours=6)  # object is datetime.timedelta\n",
    "print(\"A delta of 1 year: \", delta_year)"
   ]
  },
  {
   "cell_type": "code",
   "execution_count": 179,
   "metadata": {},
   "outputs": [
    {
     "name": "stdout",
     "output_type": "stream",
     "text": [
      "2023-07-17 06:00:00\n",
      "2024-07-16 12:00:00\n",
      "2030-07-17 00:00:00\n"
     ]
    }
   ],
   "source": [
    "print(newnow + delta_year)\n",
    "print(newnow + 2 * delta_year)\n",
    "print(newnow + 8 * delta_year)"
   ]
  },
  {
   "cell_type": "markdown",
   "metadata": {},
   "source": [
    "<br>\n",
    "\n",
    "lets read in a series of dates and rates\n",
    "\n",
    "<br>"
   ]
  },
  {
   "cell_type": "code",
   "execution_count": 180,
   "metadata": {},
   "outputs": [
    {
     "name": "stdout",
     "output_type": "stream",
     "text": [
      "The minimum date is  1/10/2019\n",
      "The maximum date is  9/9/2021\n"
     ]
    },
    {
     "data": {
      "text/html": [
       "<div>\n",
       "<style scoped>\n",
       "    .dataframe tbody tr th:only-of-type {\n",
       "        vertical-align: middle;\n",
       "    }\n",
       "\n",
       "    .dataframe tbody tr th {\n",
       "        vertical-align: top;\n",
       "    }\n",
       "\n",
       "    .dataframe thead th {\n",
       "        text-align: right;\n",
       "    }\n",
       "</style>\n",
       "<table border=\"1\" class=\"dataframe\">\n",
       "  <thead>\n",
       "    <tr style=\"text-align: right;\">\n",
       "      <th></th>\n",
       "      <th>date</th>\n",
       "      <th>rate</th>\n",
       "    </tr>\n",
       "  </thead>\n",
       "  <tbody>\n",
       "    <tr>\n",
       "      <th>0</th>\n",
       "      <td>5/26/2022</td>\n",
       "      <td>0.78</td>\n",
       "    </tr>\n",
       "    <tr>\n",
       "      <th>1</th>\n",
       "      <td>5/25/2022</td>\n",
       "      <td>0.78</td>\n",
       "    </tr>\n",
       "    <tr>\n",
       "      <th>2</th>\n",
       "      <td>5/24/2022</td>\n",
       "      <td>0.78</td>\n",
       "    </tr>\n",
       "    <tr>\n",
       "      <th>3</th>\n",
       "      <td>5/23/2022</td>\n",
       "      <td>0.78</td>\n",
       "    </tr>\n",
       "    <tr>\n",
       "      <th>4</th>\n",
       "      <td>5/20/2022</td>\n",
       "      <td>0.78</td>\n",
       "    </tr>\n",
       "  </tbody>\n",
       "</table>\n",
       "</div>"
      ],
      "text/plain": [
       "        date  rate\n",
       "0  5/26/2022  0.78\n",
       "1  5/25/2022  0.78\n",
       "2  5/24/2022  0.78\n",
       "3  5/23/2022  0.78\n",
       "4  5/20/2022  0.78"
      ]
     },
     "execution_count": 180,
     "metadata": {},
     "output_type": "execute_result"
    }
   ],
   "source": [
    "file=r'C:\\Users\\arono\\source\\Reference\\Jupyter\\Plots\\rates.csv'\n",
    "rates_series=pd.read_csv(file)\n",
    "d1 = min(rates_series.date)\n",
    "d2 =  max(rates_series.date)\n",
    "print(\"The minimum date is \", d1)\n",
    "print(\"The maximum date is \", d2)\n",
    "rates_series.head()"
   ]
  },
  {
   "cell_type": "code",
   "execution_count": 181,
   "metadata": {},
   "outputs": [
    {
     "data": {
      "text/html": [
       "<div>\n",
       "<style scoped>\n",
       "    .dataframe tbody tr th:only-of-type {\n",
       "        vertical-align: middle;\n",
       "    }\n",
       "\n",
       "    .dataframe tbody tr th {\n",
       "        vertical-align: top;\n",
       "    }\n",
       "\n",
       "    .dataframe thead th {\n",
       "        text-align: right;\n",
       "    }\n",
       "</style>\n",
       "<table border=\"1\" class=\"dataframe\">\n",
       "  <thead>\n",
       "    <tr style=\"text-align: right;\">\n",
       "      <th></th>\n",
       "      <th>date</th>\n",
       "      <th>rate</th>\n",
       "    </tr>\n",
       "  </thead>\n",
       "  <tbody>\n",
       "    <tr>\n",
       "      <th>1039</th>\n",
       "      <td>4/2/2018</td>\n",
       "      <td>1.80</td>\n",
       "    </tr>\n",
       "    <tr>\n",
       "      <th>1038</th>\n",
       "      <td>4/3/2018</td>\n",
       "      <td>1.83</td>\n",
       "    </tr>\n",
       "    <tr>\n",
       "      <th>1037</th>\n",
       "      <td>4/4/2018</td>\n",
       "      <td>1.74</td>\n",
       "    </tr>\n",
       "    <tr>\n",
       "      <th>1036</th>\n",
       "      <td>4/5/2018</td>\n",
       "      <td>1.75</td>\n",
       "    </tr>\n",
       "    <tr>\n",
       "      <th>1035</th>\n",
       "      <td>4/6/2018</td>\n",
       "      <td>1.75</td>\n",
       "    </tr>\n",
       "  </tbody>\n",
       "</table>\n",
       "</div>"
      ],
      "text/plain": [
       "          date  rate\n",
       "1039  4/2/2018  1.80\n",
       "1038  4/3/2018  1.83\n",
       "1037  4/4/2018  1.74\n",
       "1036  4/5/2018  1.75\n",
       "1035  4/6/2018  1.75"
      ]
     },
     "execution_count": 181,
     "metadata": {},
     "output_type": "execute_result"
    }
   ],
   "source": [
    "rates_series =rates_series[::-1]   #reverse the sort...\n",
    "rates_series.head()\n"
   ]
  },
  {
   "cell_type": "markdown",
   "metadata": {},
   "source": [
    "<br><br>\n",
    "\n",
    "<font size=\"4\" color=\"red\">matplotlib.dates Review</font><a class=\"anchor\" id=\"dates\"></a>\n",
    "\n",
    "<br><br>"
   ]
  },
  {
   "cell_type": "code",
   "execution_count": 182,
   "metadata": {},
   "outputs": [
    {
     "name": "stdout",
     "output_type": "stream",
     "text": [
      "-2.0\n",
      "0.0\n",
      "2.0\n"
     ]
    }
   ],
   "source": [
    "print(mpl.dates.datestr2num(\"1969-12-30\"))\n",
    "print(mpl.dates.datestr2num(\"1970-01-01\"))\n",
    "print(mpl.dates.datestr2num(\"1970-01-03\"))"
   ]
  },
  {
   "cell_type": "markdown",
   "metadata": {},
   "source": [
    "<br>\n",
    "\n",
    "matplotlib and datetime both use the <b><i>Gregorian Calendar</i></b> convention of using offsets from Jan 1 1970\n",
    "\n",
    "<br>\n",
    "\n",
    "the whole number or integer is the days after Jan 1 1970 and the fractional part or mantissa represents a fraction of the day.\n",
    "\n",
    "<br>\n",
    "\n",
    "For example, the number of days since 1970 is...\n",
    "\n",
    "<br>"
   ]
  },
  {
   "cell_type": "code",
   "execution_count": 183,
   "metadata": {},
   "outputs": [
    {
     "data": {
      "text/plain": [
       "19190.556516203702"
      ]
     },
     "execution_count": 183,
     "metadata": {},
     "output_type": "execute_result"
    }
   ],
   "source": [
    "mpl.dates.datestr2num(now.strftime(\"%m/%d/%Y, %H:%M:%S\"))"
   ]
  },
  {
   "cell_type": "markdown",
   "metadata": {},
   "source": [
    "<br>\n",
    "\n",
    "drange is another matplotlib function. It accepts datetimes but returns a numpy array of floats.  You have to pass a <b><i>datetime.timedelta</i></b> object so you cant specify the number of intervals.\n",
    "\n",
    "<br>"
   ]
  },
  {
   "cell_type": "code",
   "execution_count": 184,
   "metadata": {},
   "outputs": [
    {
     "name": "stdout",
     "output_type": "stream",
     "text": [
      "Here is the range [17906.   18271.25 18636.5 ]\n"
     ]
    }
   ],
   "source": [
    "dd1 = datetime.datetime.strptime(d1, \"%m/%d/%Y\")\n",
    "dd2 = datetime.datetime.strptime(d2, \"%m/%d/%Y\")\n",
    "range_years = mpl.dates.drange(dd1, dd2, delta_year)  # class 'numpy.ndarray' of floats\n",
    "print(\"Here is the range\", range_years)"
   ]
  },
  {
   "cell_type": "markdown",
   "metadata": {},
   "source": [
    "<br>\n",
    "\n",
    "To actually see them, use num2date() to convert them to datetime, then use strftime to format them\n",
    "\n",
    "<br>"
   ]
  },
  {
   "cell_type": "code",
   "execution_count": 185,
   "metadata": {},
   "outputs": [
    {
     "name": "stdout",
     "output_type": "stream",
     "text": [
      "01/10/2019\n",
      "01/10/2020\n",
      "01/09/2021\n"
     ]
    }
   ],
   "source": [
    "for i in range(len(range_years)):\n",
    "    print(datetime.datetime.strftime(mpl.dates.num2date(range_years[i]), \"%m/%d/%Y\"))"
   ]
  },
  {
   "cell_type": "markdown",
   "metadata": {},
   "source": [
    "<br>\n",
    "\n",
    "To specify the number of intervals ... first get the total difference\n",
    "\n",
    "<br>"
   ]
  },
  {
   "cell_type": "code",
   "execution_count": 186,
   "metadata": {},
   "outputs": [
    {
     "data": {
      "text/plain": [
       "datetime.timedelta(days=973)"
      ]
     },
     "execution_count": 186,
     "metadata": {},
     "output_type": "execute_result"
    }
   ],
   "source": [
    "dd_interval = dd2-dd1\n",
    "dd_interval"
   ]
  },
  {
   "cell_type": "markdown",
   "metadata": {},
   "source": [
    "<br>\n",
    "\n",
    "now manually create a list of datetime objects\n",
    "\n",
    "<br>"
   ]
  },
  {
   "cell_type": "code",
   "execution_count": 187,
   "metadata": {},
   "outputs": [],
   "source": [
    "dd_sub_interval = dd_interval/4\n",
    "\n",
    "four_dates = [dd1 + (i * dd_sub_interval) for i in range(1,5)] "
   ]
  },
  {
   "cell_type": "markdown",
   "metadata": {},
   "source": [
    "<br><br>\n",
    "\n",
    "<font size=\"4\" color=\"red\">Format Dates</font><a class=\"anchor\" id=\"formatdates\"></a>\n",
    "\n",
    "<br><br>"
   ]
  },
  {
   "cell_type": "markdown",
   "metadata": {},
   "source": [
    "<br>\n",
    "\n",
    "Format dates using set_major_locator and set_major_formatter. The minor_locator arranges smaller ticks without labels.\n",
    "\n",
    "<br>\n",
    "\n",
    "You want to make sure your intervals fit. If results are weird, tweak the intervals. Probably a good idea to define all locators up top...\n",
    "\n",
    "<br>"
   ]
  },
  {
   "cell_type": "code",
   "execution_count": 188,
   "metadata": {},
   "outputs": [],
   "source": [
    "hours_6_Loc = mpl.dates.HourLocator(interval=6)   # every 6 hours, will be the minor formatter, the small ticks\n",
    "months_2_Loc = mpl.dates.MonthLocator(interval=2)         # every 2 months\n",
    "months_3_Loc = mpl.dates.MonthLocator(interval=3)\n",
    "yearsLoc = mpl.dates.YearLocator() \n",
    "monthsFmt = mpl.dates.DateFormatter('%B')           # October November December"
   ]
  },
  {
   "cell_type": "code",
   "execution_count": 189,
   "metadata": {},
   "outputs": [
    {
     "data": {
      "image/png": "[encoded data removed]",
      "text/plain": [
       "<Figure size 864x432 with 1 Axes>"
      ]
     },
     "metadata": {
      "needs_background": "light"
     },
     "output_type": "display_data"
    }
   ],
   "source": [
    "fig, ax = plt.subplots(figsize=(12, 6))\n",
    "\n",
    "# doest seem to matter what order you call these..\n",
    "ax.plot_date(rates_series.date,rates_series.rate, '-' )\n",
    "\n",
    "ax.xaxis.set_major_locator(months_3_Loc) \n",
    "\n",
    "xFmt = mpl.dates.DateFormatter('%Y-%m')\n",
    "ax.xaxis.set_minor_formatter(xFmt)           # setting it to major didnt come out right\n",
    "\n",
    "ax.set(ylabel=\"Rate (%)\", xlabel='')\n",
    "plt.xticks(rotation = 45) \n",
    "\n",
    "plt.show()"
   ]
  },
  {
   "cell_type": "markdown",
   "metadata": {},
   "source": [
    "<br>\n",
    "\n",
    "Use AutoDateLocator() if your lazy\n",
    "\n",
    "<br>"
   ]
  },
  {
   "cell_type": "code",
   "execution_count": 190,
   "metadata": {},
   "outputs": [
    {
     "data": {
      "image/png": "[encoded data removed]",
      "text/plain": [
       "<Figure size 864x432 with 1 Axes>"
      ]
     },
     "metadata": {
      "needs_background": "light"
     },
     "output_type": "display_data"
    }
   ],
   "source": [
    "fig, ax = plt.subplots(figsize=(12, 6))\n",
    "ax.xaxis.set_major_locator(mpl.dates.AutoDateLocator())\n",
    "ax.plot_date(rates_series.date,rates_series.rate, '-' )\n",
    "plt.show()"
   ]
  },
  {
   "cell_type": "markdown",
   "metadata": {},
   "source": [
    "<br>\n",
    "\n",
    "Use NullLocator() if you dont want to see anything\n",
    "\n",
    "<br>"
   ]
  },
  {
   "cell_type": "code",
   "execution_count": 191,
   "metadata": {},
   "outputs": [
    {
     "data": {
      "image/png": "[encoded data removed]",
      "text/plain": [
       "<Figure size 432x288 with 1 Axes>"
      ]
     },
     "metadata": {
      "needs_background": "light"
     },
     "output_type": "display_data"
    }
   ],
   "source": [
    "ax = plt.axes()\n",
    "ax.plot(np.random.rand(50))\n",
    "\n",
    "ax.yaxis.set_major_locator(plt.NullLocator())\n",
    "ax.xaxis.set_major_formatter(plt.NullFormatter())"
   ]
  },
  {
   "cell_type": "markdown",
   "metadata": {},
   "source": [
    "<br>\n",
    "\n",
    "In this example we auto generate dates and values\n",
    "\n",
    "<br>\n",
    "\n"
   ]
  },
  {
   "cell_type": "code",
   "execution_count": 192,
   "metadata": {},
   "outputs": [
    {
     "name": "stdout",
     "output_type": "stream",
     "text": [
      "We have  15  dates each 10 days apart \n"
     ]
    },
    {
     "data": {
      "image/png": "[encoded data removed]",
      "text/plain": [
       "<Figure size 432x288 with 1 Axes>"
      ]
     },
     "metadata": {
      "needs_background": "light"
     },
     "output_type": "display_data"
    }
   ],
   "source": [
    "date1_1 = dt.datetime(2008, 9, 23)\n",
    "date1_2 = dt.datetime(2009, 2, 16)\n",
    "delta1 = dt.timedelta(days=10)\n",
    "dates1 = mpl.dates.drange(date1_1, date1_2, delta1)\n",
    "y1 = np.random.rand(len(dates1))\n",
    "\n",
    "print(\"We have \", len(dates1), \" dates each 10 days apart \")\n",
    "\n",
    "dateFmt = mpl.dates.DateFormatter('%Y-%m')\n",
    "monLoc = mpl.dates.MonthLocator()\n",
    "\n",
    "fig = plt.figure()\n",
    "ax = fig.add_subplot(111)\n",
    "ax.plot_date(dates1, y1, linestyle='-')\n",
    "ax.xaxis.set_major_formatter(dateFmt)\n",
    "ax.xaxis.set_major_locator(monLoc)\n",
    "\n",
    "plt.xticks(rotation = 45) \n",
    "plt.show()"
   ]
  },
  {
   "cell_type": "code",
   "execution_count": 193,
   "metadata": {},
   "outputs": [
    {
     "data": {
      "image/png": "[encoded data removed]",
      "text/plain": [
       "<Figure size 576x432 with 8 Axes>"
      ]
     },
     "metadata": {
      "needs_background": "light"
     },
     "output_type": "display_data"
    }
   ],
   "source": [
    "\n",
    "import matplotlib.ticker as ticker\n",
    "def setup(ax):\n",
    "    ax.spines['right'].set_color('none')\n",
    "    ax.spines['left'].set_color('none')\n",
    "    ax.yaxis.set_major_locator(ticker.NullLocator())\n",
    "    ax.spines['top'].set_color('none')\n",
    "    ax.xaxis.set_ticks_position('bottom')\n",
    "    ax.tick_params(which='major', width=1.00)\n",
    "    ax.tick_params(which='major', length=5)\n",
    "    ax.tick_params(which='minor', width=0.75)\n",
    "    ax.tick_params(which='minor', length=2.5)\n",
    "    ax.set_xlim(0, 5)\n",
    "    ax.set_ylim(0, 1)\n",
    "    ax.patch.set_alpha(0.0)\n",
    "\n",
    "\n",
    "plt.figure(figsize=(8, 6))\n",
    "n = 8\n",
    "\n",
    "# Null Locator\n",
    "ax = plt.subplot(n, 1, 1)\n",
    "setup(ax)\n",
    "ax.xaxis.set_major_locator(ticker.NullLocator())\n",
    "ax.xaxis.set_minor_locator(ticker.NullLocator())\n",
    "ax.text(0.0, 0.1, \"NullLocator()\", fontsize=14, transform=ax.transAxes)\n",
    "\n",
    "# Multiple Locator\n",
    "ax = plt.subplot(n, 1, 2)\n",
    "setup(ax)\n",
    "ax.xaxis.set_major_locator(ticker.MultipleLocator(0.5))\n",
    "ax.xaxis.set_minor_locator(ticker.MultipleLocator(0.1))\n",
    "ax.text(0.0, 0.1, \"MultipleLocator(0.5)\", fontsize=14,\n",
    "        transform=ax.transAxes)\n",
    "\n",
    "# Fixed Locator\n",
    "ax = plt.subplot(n, 1, 3)\n",
    "setup(ax)\n",
    "majors = [0, 1, 5]\n",
    "ax.xaxis.set_major_locator(ticker.FixedLocator(majors))\n",
    "minors = np.linspace(0, 1, 11)[1:-1]\n",
    "ax.xaxis.set_minor_locator(ticker.FixedLocator(minors))\n",
    "ax.text(0.0, 0.1, \"FixedLocator([0, 1, 5])\", fontsize=14,\n",
    "        transform=ax.transAxes)\n",
    "\n",
    "# Linear Locator\n",
    "ax = plt.subplot(n, 1, 4)\n",
    "setup(ax)\n",
    "ax.xaxis.set_major_locator(ticker.LinearLocator(3))\n",
    "ax.xaxis.set_minor_locator(ticker.LinearLocator(31))\n",
    "ax.text(0.0, 0.1, \"LinearLocator(numticks=3)\",\n",
    "        fontsize=14, transform=ax.transAxes)\n",
    "\n",
    "# Index Locator\n",
    "ax = plt.subplot(n, 1, 5)\n",
    "setup(ax)\n",
    "ax.plot(range(0, 5), [0]*5, color='White')\n",
    "ax.xaxis.set_major_locator(ticker.IndexLocator(base=.5, offset=.25))\n",
    "ax.text(0.0, 0.1, \"IndexLocator(base=0.5, offset=0.25)\",\n",
    "        fontsize=14, transform=ax.transAxes)\n",
    "\n",
    "# Auto Locator\n",
    "ax = plt.subplot(n, 1, 6)\n",
    "setup(ax)\n",
    "ax.xaxis.set_major_locator(ticker.AutoLocator())\n",
    "ax.xaxis.set_minor_locator(ticker.AutoMinorLocator())\n",
    "ax.text(0.0, 0.1, \"AutoLocator()\", fontsize=14, transform=ax.transAxes)\n",
    "\n",
    "# MaxN Locator\n",
    "ax = plt.subplot(n, 1, 7)\n",
    "setup(ax)\n",
    "ax.xaxis.set_major_locator(ticker.MaxNLocator(4))\n",
    "ax.xaxis.set_minor_locator(ticker.MaxNLocator(40))\n",
    "ax.text(0.0, 0.1, \"MaxNLocator(n=4)\", fontsize=14, transform=ax.transAxes)\n",
    "\n",
    "# Log Locator\n",
    "ax = plt.subplot(n, 1, 8)\n",
    "setup(ax)\n",
    "ax.set_xlim(10**3, 10**10)\n",
    "ax.set_xscale('log')\n",
    "ax.xaxis.set_major_locator(ticker.LogLocator(base=10.0, numticks=15))\n",
    "ax.text(0.0, 0.1, \"LogLocator(base=10, numticks=15)\",\n",
    "        fontsize=15, transform=ax.transAxes)\n",
    "\n",
    "plt.show()"
   ]
  },
  {
   "cell_type": "markdown",
   "metadata": {},
   "source": [
    "<br><br>\n",
    "\n",
    "<font size=\"5\" color=\"maroon\">Reference</font><a class=\"anchor\" id=\"reference\"></a>\n",
    "\n",
    "<br><br>\n",
    "\n",
    "tick locations and labels can be customized by setting the formatter and locator\n",
    "\n",
    "<br><br>\n"
   ]
  },
  {
   "cell_type": "markdown",
   "metadata": {},
   "source": [
    "<center><strong>Locators</strong></center>\n",
    "<table border=\"1\">\n",
    "<colgroup>\n",
    "<col width=\"30%\" />\n",
    "<col width=\"70%\" />\n",
    "</colgroup>\n",
    "<thead>\n",
    "\n",
    "<tr>\n",
    "    <th>Locator Class</th>\n",
    "    <th>Description</th>\n",
    "</tr>\n",
    "</thead>\n",
    "    \n",
    "<tbody>\n",
    "<tr><td>NullLocator</td>\n",
    "<td>No ticks</td>\n",
    "</tr>\n",
    "<tr><td>FixedLocator</td>\n",
    "<td>Tick locations are fixed</td>\n",
    "</tr>\n",
    "<tr><td>IndexLocator</td>\n",
    "<td>Locator for index plots (e.g., where x = range(len(y)))</td>\n",
    "</tr>\n",
    "<tr>\n",
    "    <td>LinearLocator</td>\n",
    "    <td>Evenly spaced from min to max</td>\n",
    "</tr>\n",
    "<tr>\n",
    "    <td>LogLocator</td>\n",
    "    <td>Logarithmically ticks from min to max</td>\n",
    "</tr>\n",
    "<tr>\n",
    "    <td>MultipleLocator</td>\n",
    "    <td>Ticks and range are a multiple of base</td>\n",
    "</tr>\n",
    "<tr>\n",
    "    <td>MaxNLocator</td>\n",
    "    <td>Finds N ticks at nice locations</td>\n",
    "</tr>\n",
    "</tbody>\n",
    "</table>"
   ]
  },
  {
   "cell_type": "markdown",
   "metadata": {},
   "source": [
    "<center><strong>Formatters</strong></center>\n",
    "<table border=\"1\">\n",
    "<colgroup>\n",
    "<col width=\"30%\" />\n",
    "<col width=\"70%\" />\n",
    "</colgroup>\n",
    "<thead>\n",
    "\n",
    "<tr>\n",
    "    <th>Formatter Class</th>\n",
    "    <th>Description</th>\n",
    "</tr>\n",
    "</thead>\n",
    "    \n",
    "<tbody>\n",
    "<tr><td>NullFormatter</td>\n",
    "<td>No labels</td>\n",
    "</tr>\n",
    "<tr><td>FixedFormatter</td>\n",
    "<td>Set strings manually</td>\n",
    "</tr>\n",
    "<tr><td>IndexFormatter</td>\n",
    "<td>Set from a list of labels</td>\n",
    "</tr>\n",
    "<tr>\n",
    "    <td>FuncFormatter</td>\n",
    "    <td>User-defined function sets the labels</td>\n",
    "</tr>\n",
    "<tr>\n",
    "    <td>LogFormatter</td>\n",
    "    <td>Default formatter for log axes</td>\n",
    "</tr>\n",
    "<tr>\n",
    "    <td>FormatStrFormatter</td>\n",
    "    <td>Use a format string for each value</td>\n",
    "</tr>\n",
    "<tr>\n",
    "    <td>ScalarFormatter</td>\n",
    "    <td>(Default) Formatter for scalar values</td>\n",
    "</tr>\n",
    "</tbody>\n",
    "</table>"
   ]
  },
  {
   "cell_type": "markdown",
   "metadata": {},
   "source": [
    "<center><strong>Format Codes</strong></center>\n",
    "<table border=\"1\">\n",
    "<colgroup>\n",
    "<col width=\"30%\" />\n",
    "<col width=\"70%\" />\n",
    "</colgroup>\n",
    "<thead>\n",
    "\n",
    "<tr>\n",
    "    <th>Code</th>\n",
    "    <th>Example</th>\n",
    "</tr>\n",
    "</thead>\n",
    "    \n",
    "<tbody>\n",
    "<tr><td>%a</td>\n",
    "<td>Sun</td>\n",
    "</tr>\n",
    "<tr><td>%A</td>\n",
    "<td>Sunday</td>\n",
    "</tr>\n",
    "\n",
    " <tr><td>%b</td>\n",
    "<td>Sep</td>\n",
    "</tr>\n",
    "<tr><td>%B</td>\n",
    "<td>September</td>\n",
    "</tr>\n",
    "    \n",
    "    \n",
    "\n",
    "<tr><td>%y</td>\n",
    "<td>22</td>\n",
    "</tr>\n",
    "<tr><td>%Y</td>\n",
    "<td>2022</td>\n",
    "</tr>\n",
    "    <tr><td>%d</td>\n",
    "<td>08</td>\n",
    "</tr>\n",
    "    \n",
    "</tbody>\n",
    "</table>\n",
    "\n",
    "\n",
    "<br>\n",
    "\n",
    "DateFormatter and strftime use the same format codes. See [here](https://strftime.org/)\n",
    "\n",
    "<br>\n",
    "\n",
    "Here is a good [site](https://www.earthdatascience.org/courses/use-data-open-source-python/use-time-series-data-in-python/date-time-types-in-pandas-python/customize-dates-matplotlib-plots-python/)\n",
    "\n"
   ]
  }
 ],
 "metadata": {
  "kernelspec": {
   "display_name": "Python 3",
   "language": "python",
   "name": "python3"
  },
  "language_info": {
   "codemirror_mode": {
    "name": "ipython",
    "version": 3
   },
   "file_extension": ".py",
   "mimetype": "text/x-python",
   "name": "python",
   "nbconvert_exporter": "python",
   "pygments_lexer": "ipython3",
   "version": "3.8.5"
  },
  "toc": {
   "base_numbering": 1,
   "nav_menu": {},
   "number_sections": true,
   "sideBar": true,
   "skip_h1_title": false,
   "title_cell": "Table of Contents",
   "title_sidebar": "Contents",
   "toc_cell": false,
   "toc_position": {},
   "toc_section_display": true,
   "toc_window_display": false
  },
  "varInspector": {
   "cols": {
    "lenName": 16,
    "lenType": 16,
    "lenVar": 40
   },
   "kernels_config": {
    "python": {
     "delete_cmd_postfix": "",
     "delete_cmd_prefix": "del ",
     "library": "var_list.py",
     "varRefreshCmd": "print(var_dic_list())"
    },
    "r": {
     "delete_cmd_postfix": ") ",
     "delete_cmd_prefix": "rm(",
     "library": "var_list.r",
     "varRefreshCmd": "cat(var_dic_list()) "
    }
   },
   "types_to_exclude": [
    "module",
    "function",
    "builtin_function_or_method",
    "instance",
    "_Feature"
   ],
   "window_display": false
  }
 },
 "nbformat": 4,
 "nbformat_minor": 4
}

{
 "cells": [
  {
   "cell_type": "markdown",
   "metadata": {},
   "source": [
    "<br><br>\n",
    "\n",
    "<center><font size=\"7\" color=\"purple\">Sympy</font></center>\n",
    "\n",
    "<br><br>\n",
    "\n",
    "Sympy is short for Symbolic Python and is one of 3 important libraries for doing math in Python (scipy and numpy are the other 2).  Click on any of the links below to jump to a topic of interest.\n",
    "\n",
    "\n",
    "\n",
    "### Table of Contents\n",
    "\n",
    "* [Symbols](#symbols)\n",
    "* [Basics](#basics)\n",
    "    * [Derivative](#derivative)\n",
    "    * [Integral](#integral)\n",
    "    * [Limit](#limit)\n",
    "    * [Factor Expand](#factor_expand)\n",
    "* [Solving Stuff](#solving)\n",
    "    * [Parameter Review](#parameters)\n",
    "    * [Undefined Function](#undeffunc)\n",
    "    * [Equality](#eq)\n",
    "    * [Solvers](#solvers)\n",
    "    * [Differential Equations](#odes)\n",
    "* [Rendering Output](#render)\n",
    "    * [plot](#plot)\n",
    "    * [pprint](#pprint)\n",
    "    * [latex_to_png](#latex_to_png)\n",
    "    * [latex](#latex)\n",
    "    * [init_printing](#init_printing)  \n",
    "* [More](#more)\n",
    "    * [L'Hopitals Rule](#lhopital)\n",
    "    * [Projectiles](#projectile)\n",
    "    * [Even More](#morefuncs)\n"
   ]
  },
  {
   "cell_type": "markdown",
   "metadata": {},
   "source": [
    "\n",
    "<br><br><br>\n",
    "\n",
    "<center><font size=\"5\" color=\"blue\">Symbols<a class=\"anchor\" id=\"symbols\"></a></font></center>\n",
    "\n",
    "<br><br>\n",
    "\n"
   ]
  },
  {
   "cell_type": "code",
   "execution_count": 217,
   "metadata": {},
   "outputs": [
    {
     "data": {
      "text/latex": [
       "$\\displaystyle 2 x + 1$"
      ],
      "text/plain": [
       "2*x + 1"
      ]
     },
     "execution_count": 217,
     "metadata": {},
     "output_type": "execute_result"
    }
   ],
   "source": [
    "import sympy             # individual methods not imported explicitly so the code will prefix each call with \"sympy.\"\n",
    "\n",
    "x = sympy.Symbol('x')    # technically you could say a = Symbol('x') but that would be confusing\n",
    "x+x+1"
   ]
  },
  {
   "cell_type": "markdown",
   "metadata": {},
   "source": [
    "<br>\n",
    "\n",
    "Various mathematical symbols can be *sympified* and displayed\n",
    "\n",
    "<br>"
   ]
  },
  {
   "cell_type": "code",
   "execution_count": 218,
   "metadata": {},
   "outputs": [
    {
     "data": {
      "text/latex": [
       "$\\displaystyle \\theta$"
      ],
      "text/plain": [
       "theta"
      ]
     },
     "execution_count": 218,
     "metadata": {},
     "output_type": "execute_result"
    }
   ],
   "source": [
    "theta = sympy.Symbol('theta')\n",
    "theta"
   ]
  },
  {
   "cell_type": "code",
   "execution_count": 219,
   "metadata": {},
   "outputs": [
    {
     "data": {
      "text/latex": [
       "$\\displaystyle \\alpha$"
      ],
      "text/plain": [
       "alpha"
      ]
     },
     "execution_count": 219,
     "metadata": {},
     "output_type": "execute_result"
    }
   ],
   "source": [
    "alpha = sympy.Symbol('alpha')\n",
    "alpha"
   ]
  },
  {
   "cell_type": "code",
   "execution_count": 220,
   "metadata": {},
   "outputs": [],
   "source": [
    "x,y,z=sympy.symbols('x,y,z')"
   ]
  },
  {
   "cell_type": "markdown",
   "metadata": {},
   "source": [
    "<br>\n",
    "\n",
    "sympify creates complex expressions of symbols. Note this does <b><i>not</i></b> create symbos for A and B.\n",
    "\n",
    "<br>"
   ]
  },
  {
   "cell_type": "code",
   "execution_count": 221,
   "metadata": {},
   "outputs": [
    {
     "data": {
      "text/latex": [
       "$\\displaystyle A^{2} + B x - \\frac{1}{2}$"
      ],
      "text/plain": [
       "A**2 + B*x - 1/2"
      ]
     },
     "execution_count": 221,
     "metadata": {},
     "output_type": "execute_result"
    }
   ],
   "source": [
    "str_expr = \"A**2 + B*x - 1/2\"\n",
    "expr = sympy.sympify(str_expr)   # sympy.core.add.Add\n",
    "expr"
   ]
  },
  {
   "cell_type": "markdown",
   "metadata": {},
   "source": [
    "<br>\n",
    "\n",
    "this returns a tuple of symbols but its pretty confusing\n",
    "`sympy.symbols('x(1:4)')`\n",
    "\n",
    "<br>\n",
    " \n",
    " You can set a variable to a number and solve...\n",
    " \n",
    " <br>"
   ]
  },
  {
   "cell_type": "code",
   "execution_count": 222,
   "metadata": {},
   "outputs": [
    {
     "data": {
      "text/latex": [
       "$\\displaystyle 6$"
      ],
      "text/plain": [
       "6"
      ]
     },
     "execution_count": 222,
     "metadata": {},
     "output_type": "execute_result"
    }
   ],
   "source": [
    "y = x * 3\n",
    "\n",
    "y.subs(x, 2)"
   ]
  },
  {
   "cell_type": "markdown",
   "metadata": {},
   "source": [
    "<br>\n",
    "Also note `x=3` would turn `x` from a Symbol to an Integer and have on effect on `expr`\n",
    "<br>\n",
    "To test an expression for example if $(6 == x*3)$\n",
    "<br>"
   ]
  },
  {
   "cell_type": "code",
   "execution_count": 223,
   "metadata": {},
   "outputs": [
    {
     "data": {
      "text/plain": [
       "True"
      ]
     },
     "execution_count": 223,
     "metadata": {},
     "output_type": "execute_result"
    }
   ],
   "source": [
    "# sympy.Eq(6,y)\n",
    "6==y.subs(x, 2)"
   ]
  },
  {
   "cell_type": "markdown",
   "metadata": {},
   "source": [
    "<br>\n",
    "in sympy, this would be false because the \"equations\" are different\n",
    "`(x + 1)**2 == x**2 + 2*x + 1`\n",
    "<br>\n",
    "But the equals() function can tell you if they are equal\n",
    "<br>"
   ]
  },
  {
   "cell_type": "code",
   "execution_count": 224,
   "metadata": {},
   "outputs": [
    {
     "data": {
      "text/plain": [
       "False"
      ]
     },
     "execution_count": 224,
     "metadata": {},
     "output_type": "execute_result"
    }
   ],
   "source": [
    "a=(x + 1)**2             # sympy.core.power.Pow\n",
    "b=x**2 + 2*x + 2         # sympy.core.add.Add\n",
    "a.equals(b)"
   ]
  },
  {
   "cell_type": "markdown",
   "metadata": {},
   "source": [
    "\n",
    "An equation such as $5t^2+2t+8$ stored in a string is *sympified* into a <b><ul>sympy.core</ul></b> object,\n",
    "either sympy.core.add.Add, sympy.core.mul.Mul or sympy.core.pow.Pow.\n",
    "\n",
    "<br>\n",
    "An equations may be in 4 object types and it helps to understand this\n",
    "<br>\n",
    "\n",
    "* sympy.core                                     Add, Mul,Pow\n",
    "\n",
    "* sympy.core.relational.Equality\n",
    "\n",
    "* sympy.core.function.UndefinedFunction\n",
    "\n",
    "* str                                           which includes latex expressions\n",
    "\n",
    "\n",
    "\n",
    "\n",
    "\n",
    "\n",
    "<br><br><br>\n",
    "\n",
    "<center><font size=\"5\" color=\"blue\">Calculus Basics<a class=\"anchor\" id=\"basics\"></a></font></center>\n",
    "\n",
    "<br><br>\n",
    "\n",
    "You can create and object but usually its enough to call the static method...\n",
    "\n",
    "<br>\n",
    "\n",
    "<table>\n",
    "  <tr>\n",
    "    <th>Object</th>\n",
    "    <th>Method</th>\n",
    "  </tr>\n",
    "  <tr>\n",
    "    <td>Derivative</td>\n",
    "    <td>diff</td>\n",
    "  </tr>\n",
    "  <tr>\n",
    "    <td>Integration</td>\n",
    "    <td>integrate</td>\n",
    "  </tr>\n",
    "   <tr>\n",
    "    <td>Limit</td>\n",
    "    <td>limit</td>\n",
    "  </tr>\n",
    "</table>\n",
    "\n",
    "\n",
    "\n",
    "\n",
    "<font size=\"4\" color=\"red\">Derivative</font><a class=\"anchor\" id=\"derivative\"></a>\n",
    "\n",
    "\n",
    "<br>\n",
    "lets start with with a simple derivative\n",
    "<br>\n",
    "\n",
    "$$5t^2+2t+8$$\n",
    "\n",
    "<br>\n",
    "\n",
    "Derivative() only creates an object from which you can evaluate it..."
   ]
  },
  {
   "cell_type": "code",
   "execution_count": 225,
   "metadata": {},
   "outputs": [
    {
     "data": {
      "text/latex": [
       "$\\displaystyle 10 t + 2$"
      ],
      "text/plain": [
       "10*t + 2"
      ]
     },
     "execution_count": 225,
     "metadata": {},
     "output_type": "execute_result"
    }
   ],
   "source": [
    "t = sympy.Symbol('t')\n",
    "St = 5*t**2 + 2*t + 8       # St is of type sympy.core.add.Add\n",
    "\n",
    "d = sympy.Derivative(St, t)  # d is of type sympy.core.function.Derivative\n",
    "\n",
    "d.doit()  "
   ]
  },
  {
   "cell_type": "markdown",
   "metadata": {},
   "source": [
    "<br>\n",
    "\n",
    "a shortcut way is to use diff\n",
    "\n",
    "<br>\n"
   ]
  },
  {
   "cell_type": "code",
   "execution_count": 226,
   "metadata": {},
   "outputs": [
    {
     "data": {
      "text/latex": [
       "$\\displaystyle 10 t + 2$"
      ],
      "text/plain": [
       "10*t + 2"
      ]
     },
     "execution_count": 226,
     "metadata": {},
     "output_type": "execute_result"
    }
   ],
   "source": [
    "sympy.diff(St)"
   ]
  },
  {
   "cell_type": "markdown",
   "metadata": {},
   "source": [
    "<br>\n",
    "\n",
    "both return a sympy.core.add.Add object\n",
    "\n",
    "<br>"
   ]
  },
  {
   "cell_type": "markdown",
   "metadata": {},
   "source": [
    "<br>\n",
    "\n",
    "With the deriviative object, you can substitute a number or even another symbol...\n",
    "\n",
    "<br>"
   ]
  },
  {
   "cell_type": "code",
   "execution_count": 227,
   "metadata": {},
   "outputs": [
    {
     "data": {
      "text/latex": [
       "$\\displaystyle 47.0$"
      ],
      "text/plain": [
       "47.0000000000000"
      ]
     },
     "execution_count": 227,
     "metadata": {},
     "output_type": "execute_result"
    }
   ],
   "source": [
    "d.doit().subs({t:4.5})  "
   ]
  },
  {
   "cell_type": "code",
   "execution_count": 228,
   "metadata": {},
   "outputs": [
    {
     "data": {
      "text/latex": [
       "$\\displaystyle 10 x + 2$"
      ],
      "text/plain": [
       "10*x + 2"
      ]
     },
     "execution_count": 228,
     "metadata": {},
     "output_type": "execute_result"
    }
   ],
   "source": [
    "d.doit().subs({t:x})   "
   ]
  },
  {
   "cell_type": "markdown",
   "metadata": {},
   "source": [
    "<br>\n",
    "\n",
    "To evaluate $f^{\\prime \\prime \\prime} (x^4)$\n",
    "\n",
    "<br>"
   ]
  },
  {
   "cell_type": "code",
   "execution_count": 229,
   "metadata": {},
   "outputs": [
    {
     "data": {
      "text/latex": [
       "$\\displaystyle 24 x$"
      ],
      "text/plain": [
       "24*x"
      ]
     },
     "execution_count": 229,
     "metadata": {},
     "output_type": "execute_result"
    }
   ],
   "source": [
    "sympy.diff(x**4,x,x,x)\n",
    "# diff(x**4,x,3)          # same thing"
   ]
  },
  {
   "cell_type": "markdown",
   "metadata": {},
   "source": [
    "<br>\n",
    "\n",
    "\n",
    "<font size=\"4\" color=\"red\">Integral</font><a class=\"anchor\" id=\"integral\"></a>\n",
    "\n",
    "<br>\n",
    "\n",
    "The Derivative() and Integral() functions take equations in any object type\n",
    "\n",
    "<br>"
   ]
  },
  {
   "cell_type": "code",
   "execution_count": 230,
   "metadata": {},
   "outputs": [
    {
     "name": "stdout",
     "output_type": "stream",
     "text": [
      "5*t**2 + 2*t\n",
      "5*t**2 + 2*t\n",
      "5*t**3/3 + t**2 + 8*t\n"
     ]
    }
   ],
   "source": [
    "i=sympy.Integral(d)              # Derivative object\n",
    "print(i.doit())                 \n",
    "i=sympy.Integral(d.doit())         # core.Add object\n",
    "print(i.doit())\n",
    "i=sympy.Integral(St)               # str\n",
    "print(i.doit())"
   ]
  },
  {
   "cell_type": "markdown",
   "metadata": {},
   "source": [
    "<br><br>\n",
    "\n",
    "<font size=\"4\" color=\"red\">Limit</font><a class=\"anchor\" id=\"limit\"></a>\n",
    "\n",
    "<br>\n",
    "\n",
    "$$\\lim_{x \\to \\infty} \\ \\frac{x^2}{5}$$\n",
    "\n",
    "<br>\n"
   ]
  },
  {
   "cell_type": "code",
   "execution_count": 231,
   "metadata": {},
   "outputs": [
    {
     "name": "stdout",
     "output_type": "stream",
     "text": [
      "oo\n",
      "oo\n"
     ]
    }
   ],
   "source": [
    "expr = x**2/5\n",
    "\n",
    "l = sympy.limit(expr, x, sympy.S.Infinity)       # type is sympy.core.numbers.Infinity\n",
    "print(l)\n",
    "l = sympy.Limit(expr, x, sympy.S.Infinity)        # type is sympy.series.limits.Limit\n",
    "print(l.doit())"
   ]
  },
  {
   "cell_type": "markdown",
   "metadata": {},
   "source": [
    "<br>\n",
    "\n",
    "S is a static class (short for Singleton) and provides a variety of members\n",
    "\n",
    "<br>\n",
    "\n",
    "Lets do eulers number...\n",
    "\n",
    "<br>\n",
    "\n",
    "$$\\lim_{x \\to \\infty} \\ \\left(1 + \\frac{1}{x}\\right)^x$$\n",
    "\n",
    "<br>\n",
    "\n"
   ]
  },
  {
   "cell_type": "code",
   "execution_count": 232,
   "metadata": {},
   "outputs": [
    {
     "data": {
      "text/latex": [
       "$\\displaystyle e$"
      ],
      "text/plain": [
       "E"
      ]
     },
     "execution_count": 232,
     "metadata": {},
     "output_type": "execute_result"
    }
   ],
   "source": [
    "sympy.limit((1+1/x)**x, x, sympy.S.Infinity)            # type is sympy.core.numbers.Exp1"
   ]
  },
  {
   "cell_type": "markdown",
   "metadata": {},
   "source": [
    "\n",
    "<br>\n",
    "\n",
    "the dir='-' symbol specifies we are approaching from the negative side\n",
    "\n",
    "<br>\n"
   ]
  },
  {
   "cell_type": "code",
   "execution_count": 233,
   "metadata": {},
   "outputs": [
    {
     "data": {
      "text/latex": [
       "$\\displaystyle -\\infty$"
      ],
      "text/plain": [
       "-oo"
      ]
     },
     "execution_count": 233,
     "metadata": {},
     "output_type": "execute_result"
    }
   ],
   "source": [
    "\n",
    "sympy.Limit(1/x, x, 0, dir='-').doit()\n"
   ]
  },
  {
   "cell_type": "markdown",
   "metadata": {},
   "source": [
    "\n",
    "<br>\n",
    "\n",
    "<font size=\"4\" color=\"red\">Factor and Expand</font><a class=\"anchor\" id=\"factor_expand\"></a>\n",
    "\n",
    "\n",
    "<br>\n",
    "\n",
    "The Difference of Squares rule is ...\n",
    "$$x^2-y^2 = (x - y)(x + y)$$\n",
    "\n",
    "<br>\n",
    "\n",
    "factor() can be used to factor from the left to the right\n",
    "\n",
    "<br>"
   ]
  },
  {
   "cell_type": "code",
   "execution_count": 234,
   "metadata": {},
   "outputs": [
    {
     "data": {
      "text/latex": [
       "$\\displaystyle \\left(x - y\\right) \\left(x + y\\right)$"
      ],
      "text/plain": [
       "(x - y)*(x + y)"
      ]
     },
     "execution_count": 234,
     "metadata": {},
     "output_type": "execute_result"
    }
   ],
   "source": [
    "y = sympy.Symbol('y')\n",
    "expr = x**2 - y**2\n",
    "sympy.factor(expr)          # sympy.core.mul.Mul"
   ]
  },
  {
   "cell_type": "markdown",
   "metadata": {},
   "source": [
    "<br>\n",
    "\n",
    "On the opposite, expand() can be used to return it back.\n",
    "\n",
    "<br>"
   ]
  },
  {
   "cell_type": "code",
   "execution_count": 235,
   "metadata": {},
   "outputs": [
    {
     "data": {
      "text/latex": [
       "$\\displaystyle x^{2} - y^{2}$"
      ],
      "text/plain": [
       "x**2 - y**2"
      ]
     },
     "execution_count": 235,
     "metadata": {},
     "output_type": "execute_result"
    }
   ],
   "source": [
    "e =sympy.factor(expr)   # sympy.core.mul.Mul\n",
    "sympy.expand(e)         # sympy.core.add.Add\n",
    "\n",
    "# again note the functions can accept different types of sympy objects"
   ]
  },
  {
   "cell_type": "markdown",
   "metadata": {},
   "source": [
    "\n",
    "\n",
    "<br><br>\n",
    "\n",
    "\n",
    "<center><font size=\"5\" color=\"blue\">Solving Stuff<a class=\"anchor\" id=\"solving\"></a> </font></center>\n",
    "\n",
    "<br><br>\n",
    " \n",
    " \n",
    " <br>\n",
    "\n",
    "<font size=\"4\" color=\"red\">Parameter Review :<a class=\"anchor\" id=\"parameters\"></a> </font>\n",
    "\n",
    "<br>\n",
    "\n",
    "A function like Derivative() can take an *expression* as a\n",
    "\n",
    "<pre>\n",
    "        1) String\n",
    "        2) sympy.core object\n",
    "        3) Derivative/Integral object\n",
    "        4) sympy.core.function.UndefinedFunction object\n",
    "</pre>\n",
    "\n",
    "<br>\n",
    "\n",
    "the important thing to note is they are all considered to solve to 0.\n",
    "\n",
    "<br>\n",
    "\n",
    "\n",
    "Other solvers expect an *Equality* object in which you explicitly set both the LHS and the RHS.\n",
    "\n",
    " \n",
    " <br>\n",
    " \n",
    " For example, these would fail...\n",
    " \n",
    " <br>\n",
    " \n",
    " `sympy.Integral(eq1)`   # no good eq1 is an Equation object\n",
    " \n",
    " `sympy.dsolve(d)`     # no good d is a Deriviative object\n",
    " \n",
    " <br>\n",
    " \n",
    " Here Integral() takes 3 different object types...\n",
    " \n",
    " <br>"
   ]
  },
  {
   "cell_type": "code",
   "execution_count": 236,
   "metadata": {},
   "outputs": [
    {
     "data": {
      "text/latex": [
       "$\\displaystyle \\int \\frac{d}{d t} \\left(5 t^{2} + 2 t + 8\\right)\\, dt$"
      ],
      "text/plain": [
       "Integral(Derivative(5*t**2 + 2*t + 8, t), t)"
      ]
     },
     "execution_count": 236,
     "metadata": {},
     "output_type": "execute_result"
    }
   ],
   "source": [
    "sympy.Integral(d)      # d is sympy.core.function.Derivative"
   ]
  },
  {
   "cell_type": "code",
   "execution_count": 237,
   "metadata": {},
   "outputs": [
    {
     "data": {
      "text/latex": [
       "$\\displaystyle \\int \\left(5 x^{2} + 2 x + 8\\right)\\, dx$"
      ],
      "text/plain": [
       "Integral(5*x**2 + 2*x + 8, x)"
      ]
     },
     "execution_count": 237,
     "metadata": {},
     "output_type": "execute_result"
    }
   ],
   "source": [
    "sympy.Integral( 5*x**2 +2*x+8 )        # sympy.core.add.Add"
   ]
  },
  {
   "cell_type": "markdown",
   "metadata": {},
   "source": [
    "<br>\n",
    "\n",
    "Here we pass a string. Also note the exponent, sympy usually requires ** but here ^ works...\n",
    "\n",
    "<br>"
   ]
  },
  {
   "cell_type": "code",
   "execution_count": 238,
   "metadata": {},
   "outputs": [
    {
     "data": {
      "text/latex": [
       "$\\displaystyle \\int \\left(5 x^{2} + 2 x + 8\\right)\\, dx$"
      ],
      "text/plain": [
       "Integral(5*x**2 + 2*x + 8, x)"
      ]
     },
     "execution_count": 238,
     "metadata": {},
     "output_type": "execute_result"
    }
   ],
   "source": [
    "sympy.Integral(\"5*x^2 +2*x+8\")"
   ]
  },
  {
   "cell_type": "markdown",
   "metadata": {},
   "source": [
    "<br>\n",
    "\n",
    "for definite integrals, just pass the range...\n",
    "\n",
    "<br>\n",
    "$$\\int_0^{\\infty} e^{-x} dx$$\n",
    "\n",
    "<br>\n"
   ]
  },
  {
   "cell_type": "code",
   "execution_count": 239,
   "metadata": {},
   "outputs": [
    {
     "data": {
      "text/latex": [
       "$\\displaystyle 1$"
      ],
      "text/plain": [
       "1"
      ]
     },
     "execution_count": 239,
     "metadata": {},
     "output_type": "execute_result"
    }
   ],
   "source": [
    "sympy.integrate(sympy.exp(-x), (x,0,sympy.S.Infinity))"
   ]
  },
  {
   "cell_type": "markdown",
   "metadata": {},
   "source": [
    "\n",
    "<br>\n",
    "\n",
    "<font size=\"4\" color=\"red\">Undefined Function :<a class=\"anchor\" id=\"undeffunc\"></a> </font>\n",
    "\n",
    "<br>\n",
    "\n",
    "\n",
    "\n",
    " <br>\n",
    "\n",
    "The Function() function returns an object of type sympy.core.function.UndefinedFunction\n",
    "\n",
    "<br>\n",
    "\n",
    "It has no code\n",
    "\n",
    "<br>\n"
   ]
  },
  {
   "cell_type": "code",
   "execution_count": 240,
   "metadata": {},
   "outputs": [
    {
     "data": {
      "text/latex": [
       "$\\displaystyle f{\\left(x \\right)}$"
      ],
      "text/plain": [
       "f(x)"
      ]
     },
     "execution_count": 240,
     "metadata": {},
     "output_type": "execute_result"
    }
   ],
   "source": [
    "f = sympy.Function('f')\n",
    "f(x)\n",
    "\n"
   ]
  },
  {
   "cell_type": "markdown",
   "metadata": {},
   "source": [
    "<br>\n",
    "\n",
    "Another way of doing it\n",
    "\n",
    "<br>"
   ]
  },
  {
   "cell_type": "code",
   "execution_count": 241,
   "metadata": {},
   "outputs": [
    {
     "data": {
      "text/latex": [
       "$\\displaystyle f{\\left(x \\right)}$"
      ],
      "text/plain": [
       "f(x)"
      ]
     },
     "execution_count": 241,
     "metadata": {},
     "output_type": "execute_result"
    }
   ],
   "source": [
    "f = sympy.symbols('f', cls=sympy.Function)\n",
    "f(x)"
   ]
  },
  {
   "cell_type": "markdown",
   "metadata": {},
   "source": [
    " <br>\n",
    " \n",
    " diff or Integral() work on it and return a Derivative or Integral object\n",
    " \n",
    " <br>"
   ]
  },
  {
   "cell_type": "code",
   "execution_count": 242,
   "metadata": {},
   "outputs": [
    {
     "data": {
      "text/latex": [
       "$\\displaystyle \\frac{d}{d t} f{\\left(t \\right)}$"
      ],
      "text/plain": [
       "Derivative(f(t), t)"
      ]
     },
     "execution_count": 242,
     "metadata": {},
     "output_type": "execute_result"
    }
   ],
   "source": [
    "dfdt = sympy.diff(f(t), t)\n",
    "dfdt "
   ]
  },
  {
   "cell_type": "code",
   "execution_count": 243,
   "metadata": {},
   "outputs": [
    {
     "data": {
      "text/latex": [
       "$\\displaystyle \\int f{\\left(t \\right)}\\, dt$"
      ],
      "text/plain": [
       "Integral(f(t), t)"
      ]
     },
     "execution_count": 243,
     "metadata": {},
     "output_type": "execute_result"
    }
   ],
   "source": [
    "sympy.Integral(f(t))"
   ]
  },
  {
   "cell_type": "code",
   "execution_count": 244,
   "metadata": {},
   "outputs": [
    {
     "data": {
      "text/latex": [
       "$\\displaystyle \\frac{d}{d t} f{\\left(t \\right)}$"
      ],
      "text/plain": [
       "Derivative(f(t), t)"
      ]
     },
     "execution_count": 244,
     "metadata": {},
     "output_type": "execute_result"
    }
   ],
   "source": [
    "sympy.Derivative(f(t))"
   ]
  },
  {
   "cell_type": "markdown",
   "metadata": {},
   "source": [
    " <br>\n",
    " \n",
    " <font size=\"4\" color=\"red\">Equality :<a class=\"anchor\" id=\"eq\"></a> </font>\n",
    " \n",
    " <br>\n"
   ]
  },
  {
   "cell_type": "code",
   "execution_count": 245,
   "metadata": {},
   "outputs": [
    {
     "data": {
      "text/latex": [
       "$\\displaystyle \\frac{d}{d t} f{\\left(t \\right)} = \\alpha f{\\left(t \\right)}$"
      ],
      "text/plain": [
       "Eq(Derivative(f(t), t), alpha*f(t))"
      ]
     },
     "execution_count": 245,
     "metadata": {},
     "output_type": "execute_result"
    }
   ],
   "source": [
    "eq1 = sympy.Eq(dfdt, alpha*f(t))   #  eq1 is of type sympy.core.relational.Equality\n",
    "eq1"
   ]
  },
  {
   "cell_type": "code",
   "execution_count": 246,
   "metadata": {},
   "outputs": [
    {
     "data": {
      "text/latex": [
       "$\\displaystyle f{\\left(t \\right)} = C_{1} e^{\\alpha t}$"
      ],
      "text/plain": [
       "Eq(f(t), C1*exp(alpha*t))"
      ]
     },
     "execution_count": 246,
     "metadata": {},
     "output_type": "execute_result"
    }
   ],
   "source": [
    "solution_eq = sympy.dsolve(eq1)\n",
    "solution_eq"
   ]
  },
  {
   "cell_type": "markdown",
   "metadata": {},
   "source": [
    " <br>\n",
    " \n",
    " <font size=\"4\" color=\"red\">4 Solvers :<a class=\"anchor\" id=\"solvers\"></a> </font>\n",
    " \n",
    " <br>\n",
    " \n",
    " \n",
    " We will look at 4 solvers starting with solveset.\n",
    " \n",
    " <br>\n",
    " \n",
    " $$(x+3)(x-5)=-7$$\n"
   ]
  },
  {
   "cell_type": "code",
   "execution_count": 247,
   "metadata": {},
   "outputs": [
    {
     "data": {
      "text/latex": [
       "$\\displaystyle \\left\\{-2, 4\\right\\}$"
      ],
      "text/plain": [
       "FiniteSet(-2, 4)"
      ]
     },
     "execution_count": 247,
     "metadata": {},
     "output_type": "execute_result"
    }
   ],
   "source": [
    "e=x**2 -2*x -15\n",
    "sympy.solveset(sympy.Eq(e , -7), x)"
   ]
  },
  {
   "cell_type": "code",
   "execution_count": 248,
   "metadata": {},
   "outputs": [
    {
     "data": {
      "text/latex": [
       "$\\displaystyle \\left\\{-3, 5\\right\\}$"
      ],
      "text/plain": [
       "FiniteSet(-3, 5)"
      ]
     },
     "execution_count": 248,
     "metadata": {},
     "output_type": "execute_result"
    }
   ],
   "source": [
    "sympy.solveset(sympy.Eq(e , 0), x)"
   ]
  },
  {
   "cell_type": "markdown",
   "metadata": {},
   "source": [
    "<br>\n",
    "\n",
    "solve just assumes you are solving for 0 and is the way we find roots\n",
    "\n",
    "<br>"
   ]
  },
  {
   "cell_type": "code",
   "execution_count": 249,
   "metadata": {},
   "outputs": [
    {
     "data": {
      "text/plain": [
       "[-3, 5]"
      ]
     },
     "execution_count": 249,
     "metadata": {},
     "output_type": "execute_result"
    }
   ],
   "source": [
    "sympy.solve(e)"
   ]
  },
  {
   "cell_type": "markdown",
   "metadata": {},
   "source": [
    "<br>\n",
    "\n",
    "solve finds roots where the equation evaluates to zero\n",
    "\n",
    "<br>"
   ]
  },
  {
   "cell_type": "code",
   "execution_count": 250,
   "metadata": {},
   "outputs": [
    {
     "data": {
      "text/plain": [
       "[{a: -(b*x + c)/x**2}]"
      ]
     },
     "execution_count": 250,
     "metadata": {},
     "output_type": "execute_result"
    }
   ],
   "source": [
    "a,b,c = sympy.symbols('a,b,c')\n",
    "e = a * x**2 + b * x + c\n",
    "sympy.solve(e) "
   ]
  },
  {
   "cell_type": "markdown",
   "metadata": {},
   "source": [
    "<br>\n",
    "\n",
    "If there are no solutions, an EmptySet is returned and if it is not able to find solutions then a ConditionSet is returned.\n",
    "\n",
    "<br>\n",
    "\n",
    "Note the upside down v can be either \\wedge or \\land and represents LogicalAnd so i guess its saying\n",
    "that x is in the Complex number set and the indicated equation equals 0\n",
    "\n",
    "<br>"
   ]
  },
  {
   "cell_type": "code",
   "execution_count": 251,
   "metadata": {},
   "outputs": [
    {
     "name": "stdout",
     "output_type": "stream",
     "text": [
      "\\left\\{x \\mid x \\in \\mathbb{C} \\wedge - x + \\cos{\\left(x \\right)} = 0 \\right\\}\n"
     ]
    },
    {
     "data": {
      "text/latex": [
       "$\\displaystyle \\left\\{x \\mid x \\in \\mathbb{C} \\wedge - x + \\cos{\\left(x \\right)} = 0 \\right\\}$"
      ],
      "text/plain": [
       "ConditionSet(x, Eq(-x + cos(x), 0), Complexes)"
      ]
     },
     "execution_count": 251,
     "metadata": {},
     "output_type": "execute_result"
    }
   ],
   "source": [
    "s=sympy.solveset(sympy.cos(x) - x, x)  # Not able to find solution ... sympy.sets.conditionset.ConditionSet\n",
    "print(sympy.latex(s))\n",
    "s"
   ]
  },
  {
   "cell_type": "markdown",
   "metadata": {},
   "source": [
    "<br>\n",
    "\n",
    "linsolve solves linear equations and can do so on matrices\n",
    "\n",
    "<br>"
   ]
  },
  {
   "cell_type": "code",
   "execution_count": 252,
   "metadata": {},
   "outputs": [
    {
     "data": {
      "text/latex": [
       "$\\displaystyle \\left\\{\\left( - y - 1, \\  y, \\  2\\right)\\right\\}$"
      ],
      "text/plain": [
       "FiniteSet((-y - 1, y, 2))"
      ]
     },
     "execution_count": 252,
     "metadata": {},
     "output_type": "execute_result"
    }
   ],
   "source": [
    "sympy.linsolve([x + y + z - 1, x + y + 2*z - 3 ], (x, y, z))\n",
    "# linsolve(Matrix(([1, 1, 1, 1], [1, 1, 2, 3])), (x, y, z))             # same thing"
   ]
  },
  {
   "cell_type": "markdown",
   "metadata": {},
   "source": [
    "<br>\n",
    "\n",
    "use nonlinsolve for non-linear equations, note if there are infinite solutions then the variable is returned\n",
    "\n",
    "<br>"
   ]
  },
  {
   "cell_type": "code",
   "execution_count": 253,
   "metadata": {},
   "outputs": [
    {
     "data": {
      "text/latex": [
       "$\\displaystyle \\left\\{\\left( 0, \\  y\\right)\\right\\}$"
      ],
      "text/plain": [
       "FiniteSet((0, y))"
      ]
     },
     "execution_count": 253,
     "metadata": {},
     "output_type": "execute_result"
    }
   ],
   "source": [
    "sympy.nonlinsolve([x*y, x*y - x], [x, y])"
   ]
  },
  {
   "cell_type": "markdown",
   "metadata": {},
   "source": [
    "<br>\n",
    "\n",
    "<font size=\"4\" color=\"red\">Differential Equations :<a class=\"anchor\" id=\"odes\"></a> </font>\n",
    "\n",
    "<br>\n",
    "\n",
    "$$\\frac{d}{dx} f(x) = f(x)$$\n",
    "\n",
    "<br>\n",
    "\n",
    "is considered an ODE\n",
    "\n",
    "<br>"
   ]
  },
  {
   "cell_type": "code",
   "execution_count": 254,
   "metadata": {},
   "outputs": [
    {
     "data": {
      "text/latex": [
       "$\\displaystyle f{\\left(x \\right)} = C_{1} e^{x}$"
      ],
      "text/plain": [
       "Eq(f(x), C1*exp(x))"
      ]
     },
     "execution_count": 254,
     "metadata": {},
     "output_type": "execute_result"
    }
   ],
   "source": [
    "x = sympy.symbols('x') \n",
    "f = sympy.Function('f')\n",
    "d = sympy.diff(f(x),x)         # derivative of f(x)\n",
    "deq = sympy.Eq(d,f(x))         # \n",
    "xsoln = sympy.dsolve(deq, f(x)) \n",
    "xsoln"
   ]
  },
  {
   "cell_type": "code",
   "execution_count": 255,
   "metadata": {},
   "outputs": [
    {
     "data": {
      "text/latex": [
       "$\\displaystyle \\frac{d}{d x} y{\\left(x \\right)}$"
      ],
      "text/plain": [
       "Derivative(y(x), x)"
      ]
     },
     "execution_count": 255,
     "metadata": {},
     "output_type": "execute_result"
    }
   ],
   "source": [
    "# this function can describe the ode ( in this case its quite verbose )\n",
    "# sympy.classify_ode(deq)\n",
    "\n",
    "y = sympy.Function('y')(x) \n",
    "\n",
    "# note f is an Undefined Function, f is of type f and  y is of type y\n",
    "dy_dx = sympy.Derivative( y, x )\n",
    "dy_dx"
   ]
  },
  {
   "cell_type": "markdown",
   "metadata": {},
   "source": [
    "<br>\n",
    "Lets say you have \n",
    "\n",
    "<br>\n",
    "\n",
    "$$\\frac{dy}{dx}=y$$\n",
    "\n",
    "<br> "
   ]
  },
  {
   "cell_type": "code",
   "execution_count": 258,
   "metadata": {},
   "outputs": [
    {
     "data": {
      "text/latex": [
       "$\\displaystyle y{\\left(x \\right)} = C_{1} e^{x}$"
      ],
      "text/plain": [
       "Eq(y(x), C1*exp(x))"
      ]
     },
     "execution_count": 258,
     "metadata": {},
     "output_type": "execute_result"
    }
   ],
   "source": [
    "ode = sympy.Eq(dy_dx, y)\n",
    "sympy.dsolve(ode, y)"
   ]
  },
  {
   "cell_type": "markdown",
   "metadata": {},
   "source": [
    "We can avoid using Eq() by setting the ODE to 0\n",
    "<br>\n",
    " \n",
    "$$\\frac{dy}{dx}-y=0$$ \n",
    "\n",
    "<br> "
   ]
  },
  {
   "cell_type": "code",
   "execution_count": 259,
   "metadata": {},
   "outputs": [
    {
     "data": {
      "text/latex": [
       "$\\displaystyle - y{\\left(x \\right)} + \\frac{d}{d x} y{\\left(x \\right)}$"
      ],
      "text/plain": [
       "-y(x) + Derivative(y(x), x)"
      ]
     },
     "execution_count": 259,
     "metadata": {},
     "output_type": "execute_result"
    }
   ],
   "source": [
    "ode = dy_dx - y \n",
    "ode"
   ]
  },
  {
   "cell_type": "code",
   "execution_count": 260,
   "metadata": {},
   "outputs": [
    {
     "data": {
      "text/latex": [
       "$\\displaystyle y{\\left(x \\right)} = C_{1} e^{x}$"
      ],
      "text/plain": [
       "Eq(y(x), C1*exp(x))"
      ]
     },
     "execution_count": 260,
     "metadata": {},
     "output_type": "execute_result"
    }
   ],
   "source": [
    "sympy.dsolve(ode, y) "
   ]
  },
  {
   "cell_type": "markdown",
   "metadata": {},
   "source": [
    "\n",
    "\n",
    "\n",
    "<br><br>\n",
    "\n",
    "<center><font size=\"5\" color=\"blue\">Rendering Output<a class=\"anchor\" id=\"render\"> </font></center>\n",
    "\n",
    "<br><br>\n",
    "\n",
    "\n",
    "<br>\n",
    "\n",
    "sympy has its own version of plot (wrapper on matplotlib)\n",
    "\n",
    "<br>\n",
    "\n",
    "<font size=\"4\" color=\"red\">Plot</font><a class=\"anchor\" id=\"plot\"></a>\n",
    "\n",
    "<br>\n"
   ]
  },
  {
   "cell_type": "code",
   "execution_count": 261,
   "metadata": {},
   "outputs": [
    {
     "data": {
      "image/png": "[encoded data removed]",
      "text/plain": [
       "<Figure size 432x288 with 1 Axes>"
      ]
     },
     "metadata": {
      "needs_background": "light"
     },
     "output_type": "display_data"
    },
    {
     "data": {
      "image/png": "[encoded data removed]",
      "text/plain": [
       "<Figure size 432x288 with 1 Axes>"
      ]
     },
     "metadata": {
      "needs_background": "light"
     },
     "output_type": "display_data"
    },
    {
     "data": {
      "text/plain": [
       "<sympy.plotting.plot.Plot at 0x2811955bfa0>"
      ]
     },
     "execution_count": 261,
     "metadata": {},
     "output_type": "execute_result"
    }
   ],
   "source": [
    "%matplotlib inline\n",
    "\n",
    "cexpr1 = 2*x + 3*y - 6\n",
    "cexpr2 = 3*x + 2*y - 12\n",
    "sympy.solve((cexpr1, cexpr2), dict=True)  \n",
    "\n",
    "yexpr1 = sympy.solve(cexpr1,y)        # returns a list\n",
    "\n",
    "sympy.plot(sympy.sympify(yexpr1[0]))\n",
    "\n",
    "yexpr2 = sympy.solve(cexpr2,y)        # returns a list\n",
    "    # you can pass multiple equations to plot\n",
    "    # they sympy plot does not require show()\n",
    "sympy.plot(sympy.sympify(yexpr1[0]),sympy.sympify(yexpr2[0]), title=\"Tale of 2 Equations\")\n"
   ]
  },
  {
   "cell_type": "code",
   "execution_count": 262,
   "metadata": {},
   "outputs": [
    {
     "data": {
      "image/png": "[encoded data removed]",
      "text/plain": [
       "<Figure size 432x288 with 1 Axes>"
      ]
     },
     "metadata": {
      "needs_background": "light"
     },
     "output_type": "display_data"
    },
    {
     "data": {
      "image/png": "[encoded data removed]",
      "text/plain": [
       "<Figure size 432x288 with 1 Axes>"
      ]
     },
     "metadata": {
      "needs_background": "light"
     },
     "output_type": "display_data"
    }
   ],
   "source": [
    "# however you can create a plot object which offers functionality\n",
    "p = sympy.plot(sympy.sympify(yexpr1[0]),sympy.sympify(yexpr2[0]), title=\"Tale of 2 Equations\")\n",
    "p[0].start=-5\n",
    "p[1].start=-5\n",
    "p[0].line_color = 'b'\n",
    "p[1].line_color = 'r'\n",
    "p.title=\"Wow!\"\n",
    "p.show()\n"
   ]
  },
  {
   "cell_type": "markdown",
   "metadata": {},
   "source": [
    " <br>\n",
    " <br>\n",
    "\n",
    "<font size=\"4\" color=\"red\">pprint</font><a class=\"anchor\" id=\"plot\"></a>\n",
    "\n",
    "<br>\n",
    "\n",
    "print(yexpr1) and pprint() all are ok...just ok, it depends \n",
    " \n",
    " <br>"
   ]
  },
  {
   "cell_type": "code",
   "execution_count": 263,
   "metadata": {},
   "outputs": [
    {
     "name": "stdout",
     "output_type": "stream",
     "text": [
      "⎡    2⋅x⎤\n",
      "⎢2 - ───⎥\n",
      "⎣     3 ⎦\n"
     ]
    }
   ],
   "source": [
    "sympy.pprint(yexpr1)        # not that great"
   ]
  },
  {
   "cell_type": "code",
   "execution_count": 264,
   "metadata": {},
   "outputs": [
    {
     "data": {
      "text/plain": [
       "[2 - 2*x/3]"
      ]
     },
     "execution_count": 264,
     "metadata": {},
     "output_type": "execute_result"
    }
   ],
   "source": [
    "yexpr1            # better than pprint ?"
   ]
  },
  {
   "cell_type": "code",
   "execution_count": 265,
   "metadata": {},
   "outputs": [
    {
     "name": "stdout",
     "output_type": "stream",
     "text": [
      "[2 - 2*x/3]\n"
     ]
    }
   ],
   "source": [
    "print(yexpr1)      # the worst ?"
   ]
  },
  {
   "cell_type": "code",
   "execution_count": 266,
   "metadata": {},
   "outputs": [
    {
     "name": "stdout",
     "output_type": "stream",
     "text": [
      " 5    4    3    2    \n",
      "x    x    x    x     \n",
      "── + ── + ── + ── + x\n",
      "5    4    3    2     \n"
     ]
    }
   ],
   "source": [
    "n=5\n",
    "x = sympy.Symbol('x')\n",
    "series = x\n",
    "for i in range(2, n+1):\n",
    "    series = series + (x**i)/i\n",
    "\n",
    "sympy.pprint(series)    \n",
    "    "
   ]
  },
  {
   "cell_type": "code",
   "execution_count": 267,
   "metadata": {},
   "outputs": [
    {
     "data": {
      "text/latex": [
       "$\\displaystyle \\frac{x^{5}}{5} + \\frac{x^{4}}{4} + \\frac{x^{3}}{3} + \\frac{x^{2}}{2} + x$"
      ],
      "text/plain": [
       "x**5/5 + x**4/4 + x**3/3 + x**2/2 + x"
      ]
     },
     "execution_count": 267,
     "metadata": {},
     "output_type": "execute_result"
    }
   ],
   "source": [
    "series        # better ?"
   ]
  },
  {
   "cell_type": "markdown",
   "metadata": {},
   "source": [
    "\n",
    " <br>\n",
    " \n",
    " \n",
    "<font size=\"4\" color=\"red\">latex_to_png</font><a class=\"anchor\" id=\"latex_to_png\"></a>\n",
    "\n",
    "<br>\n"
   ]
  },
  {
   "cell_type": "code",
   "execution_count": 268,
   "metadata": {},
   "outputs": [
    {
     "data": {
      "image/png": "[encoded data removed]",
      "text/plain": [
       "<IPython.core.display.Image object>"
      ]
     },
     "metadata": {},
     "output_type": "display_data"
    },
    {
     "data": {
      "image/png": "[encoded data removed]",
      "text/plain": [
       "<IPython.core.display.Image object>"
      ]
     },
     "metadata": {},
     "output_type": "display_data"
    }
   ],
   "source": [
    "alpha = sympy.symbols('alpha')\n",
    "\n",
    "from IPython.display import display, Image\n",
    "from IPython.lib.latextools import latex_to_png\n",
    "\n",
    "def disp(expr):\n",
    "    data = latex_to_png(sympy.latex(expr), color='Green' , wrap=True)\n",
    "    display(Image(data=data))\n",
    "\n",
    "disp(yexpr1)\n",
    "disp(alpha + theta)\n"
   ]
  },
  {
   "cell_type": "code",
   "execution_count": 269,
   "metadata": {},
   "outputs": [
    {
     "data": {
      "image/png": "[encoded data removed]",
      "text/plain": [
       "<IPython.core.display.Image object>"
      ]
     },
     "metadata": {},
     "output_type": "display_data"
    }
   ],
   "source": [
    "disp(series)"
   ]
  },
  {
   "cell_type": "markdown",
   "metadata": {},
   "source": [
    "\n",
    " <br>\n",
    " <br>\n",
    "\n",
    "<font size=\"4\" color=\"red\">Latex</font><a class=\"anchor\" id=\"latex\"></a>\n",
    "\n",
    "<br>\n",
    "\n",
    " latex() creates a textual latex representation. its a string but you can copy it and use it\n",
    " \n",
    " <br>"
   ]
  },
  {
   "cell_type": "code",
   "execution_count": 270,
   "metadata": {},
   "outputs": [
    {
     "name": "stdout",
     "output_type": "stream",
     "text": [
      "\\left[ 2 - \\frac{2 x}{3}\\right]\n"
     ]
    }
   ],
   "source": [
    "print(sympy.latex(yexpr1))"
   ]
  },
  {
   "cell_type": "markdown",
   "metadata": {},
   "source": [
    "\n",
    " <br>\n",
    " \n",
    " You want to use print() because latex escapes backslashes and you want to remove the extra backslash\n",
    " \n",
    " <br>\n",
    "\n",
    " \n",
    " $$\\left[ 2 - \\frac{2 x}{3}\\right]$$\n",
    " \n",
    "<br>\n",
    "print_mathml() is the math latex and might be useful\n",
    "\n",
    "<br>\n",
    "lastly init_printing() and init_session() dont seem too useful\n",
    "\n",
    "<br>"
   ]
  },
  {
   "cell_type": "markdown",
   "metadata": {},
   "source": [
    "\n",
    "<br><br>\n",
    "\n",
    "<center><font size=\"5\" color=\"blue\">More<a class=\"anchor\" id=\"more\"></a> </font></center>\n",
    "\n",
    "<br><br>"
   ]
  },
  {
   "cell_type": "markdown",
   "metadata": {},
   "source": [
    "\n",
    "<br><br><br>\n",
    "\n",
    "<b>L'Hopitals Rule</b><a class=\"anchor\" id=\"lhopital\"></a>\n",
    "\n",
    "<br><br>\n",
    "\n",
    "\n",
    "if we have an indeterminate form $\\frac{0}{0}$ or $\\frac{\\infty}{\\infty}$\n",
    "then we can take the derivative of the denominator and numerator.\n",
    "\n",
    "<br>\n",
    "$$\\lim_{x \\to \\infty} \\ \\frac{sin(\\theta)}{\\theta}$$\n",
    "\n",
    "<br>\n"
   ]
  },
  {
   "cell_type": "code",
   "execution_count": 271,
   "metadata": {},
   "outputs": [
    {
     "data": {
      "text/latex": [
       "$\\displaystyle 1$"
      ],
      "text/plain": [
       "1"
      ]
     },
     "execution_count": 271,
     "metadata": {},
     "output_type": "execute_result"
    }
   ],
   "source": [
    "\n",
    "# note this is sympy sin not Math.sin\n",
    "sympy.Limit(sympy.sin(x)/x, x, 0).doit() \n"
   ]
  },
  {
   "cell_type": "markdown",
   "metadata": {},
   "source": [
    "\n",
    "\n",
    "\n",
    "<br>\n",
    "\n",
    "<b>Projectile Motion</b><a class=\"anchor\" id=\"projectile\"></a>\n",
    "\n",
    "<br><br>\n",
    "\n",
    "the velocity equation is\n",
    "<br>\n",
    "\n",
    "$$v_y \\ = \\ \\frac{V_0*sin(\\theta)}{g*T}$$\n",
    "\n",
    "<br>\n"
   ]
  },
  {
   "cell_type": "markdown",
   "metadata": {},
   "source": [
    "\n",
    "<br>\n",
    "solving for the time at maximum height (the root where displacement = 0 ) gives us ...\n",
    "\n",
    "<br>\n",
    "\n",
    "$$T \\ = \\ \\frac{V_0 *sin(\\theta)}{g}$$\n",
    "<br>\n",
    " "
   ]
  },
  {
   "cell_type": "code",
   "execution_count": 272,
   "metadata": {},
   "outputs": [
    {
     "data": {
      "text/plain": [
       "[u*sin(theta)/g]"
      ]
     },
     "execution_count": 272,
     "metadata": {},
     "output_type": "execute_result"
    }
   ],
   "source": [
    "u = sympy.Symbol('u')\n",
    "t = sympy.Symbol('t')\n",
    "g = sympy.Symbol('g')\n",
    "theta = sympy.Symbol('theta')\n",
    "expr=u*sympy.sin(theta)-g*t       # sympy.core.add.Add\n",
    "sympy.solve(expr, t)\n"
   ]
  },
  {
   "cell_type": "markdown",
   "metadata": {},
   "source": [
    "\n",
    "\n",
    "<br><br>\n",
    "\n",
    "\n",
    "<b>More Functions</b><a class=\"anchor\" id=\"morefuncs\"></a>\n",
    "\n",
    "Expressions can be evaluated with either evalf ( for floats ) or subs (for integer)\n",
    "\n",
    "<br>"
   ]
  },
  {
   "cell_type": "code",
   "execution_count": 273,
   "metadata": {},
   "outputs": [
    {
     "name": "stdout",
     "output_type": "stream",
     "text": [
      "17.0000000000000\n",
      "17\n"
     ]
    }
   ],
   "source": [
    "expr = x**2 + 4*x -4\n",
    "print(expr.evalf(subs={x:3}))\n",
    "print(expr.subs(x,3))"
   ]
  },
  {
   "cell_type": "markdown",
   "metadata": {},
   "source": [
    "<br>\n",
    "\n",
    "expand and factor ...\n",
    "\n",
    "<br>\n",
    "\n",
    "$$x^{2} + 2 x + 1 = (x+1)(x+1)$$ \n",
    "\n",
    "<br>"
   ]
  },
  {
   "cell_type": "code",
   "execution_count": 276,
   "metadata": {},
   "outputs": [
    {
     "name": "stdout",
     "output_type": "stream",
     "text": [
      "x**2 + 2*x + 1\n",
      "(x + 1)**2\n"
     ]
    }
   ],
   "source": [
    "f = sympy.expand((x + 1)**2)\n",
    "print(f)\n",
    "print(sympy.factor(f))"
   ]
  },
  {
   "cell_type": "markdown",
   "metadata": {},
   "source": [
    "<br>\n",
    "\n",
    "expand_trig ...\n",
    "\n",
    "<br>"
   ]
  },
  {
   "cell_type": "code",
   "execution_count": 277,
   "metadata": {},
   "outputs": [
    {
     "data": {
      "text/latex": [
       "$\\displaystyle 2 \\sin{\\left(x \\right)} \\cos{\\left(x \\right)} + 2 \\cos^{2}{\\left(x \\right)} - 1$"
      ],
      "text/plain": [
       "2*sin(x)*cos(x) + 2*cos(x)**2 - 1"
      ]
     },
     "execution_count": 277,
     "metadata": {},
     "output_type": "execute_result"
    }
   ],
   "source": [
    "expr = sympy.sin(2*x) + sympy.cos(2*x)\n",
    "sympy.expand_trig(expr)"
   ]
  },
  {
   "cell_type": "markdown",
   "metadata": {},
   "source": [
    "<br>\n",
    "\n",
    "sympify (not simplify) converts a non sympify object to a sympify object\n",
    "\n",
    "<br>"
   ]
  },
  {
   "cell_type": "code",
   "execution_count": 278,
   "metadata": {},
   "outputs": [
    {
     "data": {
      "text/latex": [
       "$\\displaystyle a x^{2} + b x + c$"
      ],
      "text/plain": [
       "a*x**2 + b*x + c"
      ]
     },
     "execution_count": 278,
     "metadata": {},
     "output_type": "execute_result"
    }
   ],
   "source": [
    "a,b,c = sympy.symbols('a,b,c')\n",
    "str = \"a * x**2 + b * x + c\"\n",
    "sympy.sympify(str)           # sympy.core.add.Add\n",
    "# equivalent to sym_exp = a * x**2 + b * x + c"
   ]
  },
  {
   "cell_type": "markdown",
   "metadata": {},
   "source": [
    "<br>\n",
    "simplify (not sympify) can simplify equations. cancel() does too but seems to imply its a fraction\n",
    "\n",
    "<br><br>\n",
    "\n",
    "$$x-1 = \\frac{x^3 + x^2 - x -1}{x^2 + 2x+1}$$\n",
    "\n",
    "<br><br>\n"
   ]
  },
  {
   "cell_type": "code",
   "execution_count": 279,
   "metadata": {},
   "outputs": [
    {
     "name": "stdout",
     "output_type": "stream",
     "text": [
      "x - 1\n",
      "x - 1\n"
     ]
    }
   ],
   "source": [
    "e = (x**3 + x**2 - x - 1)/(x**2 + 2*x + 1)\n",
    "print(sympy.simplify(e))\n",
    "print(sympy.cancel(e))"
   ]
  },
  {
   "cell_type": "markdown",
   "metadata": {},
   "source": [
    "<br>\n",
    "\n",
    "the Derivative object offers a few other things\n",
    "\n",
    "<br>"
   ]
  },
  {
   "cell_type": "code",
   "execution_count": 280,
   "metadata": {},
   "outputs": [
    {
     "data": {
      "text/latex": [
       "$\\displaystyle \\operatorname{Poly}{\\left( \\frac{d}{d x} f{\\left(x \\right)}, \\frac{d}{d x} f{\\left(x \\right)}, domain=\\mathbb{Z} \\right)}$"
      ],
      "text/plain": [
       "Poly(Derivative(f(x), x), Derivative(f(x), x), domain='ZZ')"
      ]
     },
     "execution_count": 280,
     "metadata": {},
     "output_type": "execute_result"
    }
   ],
   "source": [
    "# d.as_base_exp()          # tuple           (Derivative(5*t**2 + 2*t + 8, t), 1)\n",
    "# d.variables              # tuple           (t,)\n",
    "\n",
    "d.as_poly()              # sympy.polys.polytools.Poly"
   ]
  }
 ],
 "metadata": {
  "kernelspec": {
   "display_name": "Python 3",
   "language": "python",
   "name": "python3"
  },
  "language_info": {
   "codemirror_mode": {
    "name": "ipython",
    "version": 3
   },
   "file_extension": ".py",
   "mimetype": "text/x-python",
   "name": "python",
   "nbconvert_exporter": "python",
   "pygments_lexer": "ipython3",
   "version": "3.8.5"
  },
  "toc": {
   "base_numbering": 1,
   "nav_menu": {},
   "number_sections": true,
   "sideBar": true,
   "skip_h1_title": false,
   "title_cell": "Table of Contents",
   "title_sidebar": "Contents",
   "toc_cell": false,
   "toc_position": {},
   "toc_section_display": true,
   "toc_window_display": false
  },
  "varInspector": {
   "cols": {
    "lenName": 16,
    "lenType": 16,
    "lenVar": 40
   },
   "kernels_config": {
    "python": {
     "delete_cmd_postfix": "",
     "delete_cmd_prefix": "del ",
     "library": "var_list.py",
     "varRefreshCmd": "print(var_dic_list())"
    },
    "r": {
     "delete_cmd_postfix": ") ",
     "delete_cmd_prefix": "rm(",
     "library": "var_list.r",
     "varRefreshCmd": "cat(var_dic_list()) "
    }
   },
   "types_to_exclude": [
    "module",
    "function",
    "builtin_function_or_method",
    "instance",
    "_Feature"
   ],
   "window_display": false
  }
 },
 "nbformat": 4,
 "nbformat_minor": 4
}

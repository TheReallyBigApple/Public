{
 "cells": [
  {
   "cell_type": "markdown",
   "metadata": {},
   "source": [
    "<br><br>\n",
    "\n",
    "***\n",
    "\n",
    "<br><br>\n",
    "\n",
    "\n",
    "<center><font size=\"7\" color=\"purple\">Formats and Sequences</font></center>\n",
    "\n",
    "<br><br>\n",
    "\n",
    "***\n",
    "\n",
    "<br><br>\n",
    "\n",
    "This and *Python Classes*  and *Python Containers*  are the 3 review documents for generic Python Tech\n",
    "\n",
    "<br><br>\n",
    "\n",
    "\n",
    "\n",
    "### Table of Contents\n",
    "\n",
    "* [Formats](#formats)\n",
    "    * [Rormat a Row](#rowformats)\n",
    "    * [Format Numbers](#numbers)\n",
    "    * [Format a Date](#dates)\n",
    "* [Strings](#strings)\n",
    "* [Sequences](#sequences)\n",
    "    * [Ranges](#range)\n",
    "    * [For Loops](#forloops)\n",
    "\n",
    "\n",
    "\n"
   ]
  },
  {
   "cell_type": "markdown",
   "metadata": {},
   "source": [
    "\n",
    "<br><br>\n",
    "\n",
    "<center><font size=\"5\" color=\"blue\"><u>Formats</u></font></center><a class=\"anchor\" id=\"formats\"></a>\n",
    "\n",
    "<br><br>"
   ]
  },
  {
   "cell_type": "markdown",
   "metadata": {},
   "source": [
    "\n",
    "<br>\n",
    "\n",
    "The key thing to remember is brackets can contain the referencer (as sprintf uses %) \n",
    "\n",
    "\n",
    "\n",
    "<br>\n",
    "<table>\n",
    "  <thead>\n",
    "    <tr>\n",
    "      <th>Value</th>\n",
    "      <th>Format</th>\n",
    "      <th>Result</th>\n",
    "      <th>Comment</th>\n",
    "    </tr>\n",
    "  </thead>\n",
    "  <tbody>\n",
    "    <tr>\n",
    "      <td>3.1415926</td>\n",
    "      <td>{:+.2f}</td>\n",
    "      <td>+3.14</td>\n",
    "      <td>Format float 2 decimal places with sign</td>\n",
    "    </tr>\n",
    "    <tr>\n",
    "      <td>5</td>\n",
    "      <td>{:0>2}</td>\n",
    "      <td>05</td>\n",
    "      <td>Pad number with zeros (left padding, width 2)</td>\n",
    "    </tr>\n",
    "    <tr>\n",
    "      <td>100000</td>\n",
    "      <td>{:,}</td>\n",
    "      <td>1,000,000</td>\n",
    "      <td>comma separator</td>\n",
    "    </tr>\n",
    "    <tr>\n",
    "      <td> 0.25</td>\n",
    "      <td>{:.2%}</td>\n",
    "      <td>25.00%</td>\n",
    "      <td>Format percentage</td>\n",
    "    </tr>\n",
    "          <tr>\n",
    "      <td>13</td>\n",
    "      <td>{:^10d}</td>\n",
    "      <td>    13    </td>\n",
    "      <td>Center aligned (width 10)</td>\n",
    "    </tr>\n",
    "  </tbody>\n",
    "</table>\n",
    "\n",
    "\n",
    "\n",
    "\n",
    "and the *format* method is part of the str class\n",
    "\n",
    "<br>"
   ]
  },
  {
   "cell_type": "code",
   "execution_count": 229,
   "metadata": {},
   "outputs": [
    {
     "name": "stdout",
     "output_type": "stream",
     "text": [
      "00005\n"
     ]
    }
   ],
   "source": [
    "print(\"{:0>5}\".format(\"5\"))       # width of 5, right justify, pad with leading zeros"
   ]
  },
  {
   "cell_type": "code",
   "execution_count": 22,
   "metadata": {},
   "outputs": [
    {
     "data": {
      "text/plain": [
       "'**********Go Mets !***********'"
      ]
     },
     "execution_count": 22,
     "metadata": {},
     "output_type": "execute_result"
    }
   ],
   "source": [
    "txt=\"Go Mets !\"\n",
    "format(txt,'*^30')"
   ]
  },
  {
   "cell_type": "markdown",
   "metadata": {},
   "source": [
    "<br>\n",
    "\n",
    "You can define a format at the beginning and use it throughout your script.\n",
    "\n",
    "<br>"
   ]
  },
  {
   "cell_type": "code",
   "execution_count": 230,
   "metadata": {},
   "outputs": [
    {
     "name": "stdout",
     "output_type": "stream",
     "text": [
      "1,000,000\n"
     ]
    }
   ],
   "source": [
    "\n",
    "## set user preferred format\n",
    "num_format = \"{:,}\".format\n",
    "\n",
    "## use elsewhere\n",
    "print(num_format(1000000))\n",
    "#    1,000,000"
   ]
  },
  {
   "cell_type": "code",
   "execution_count": 231,
   "metadata": {},
   "outputs": [
    {
     "name": "stdout",
     "output_type": "stream",
     "text": [
      "$12,300,000.00  =  €12,814,819.88\n"
     ]
    }
   ],
   "source": [
    "principal=12300000\n",
    "fx = 0.95982621\n",
    "\n",
    "USD_FORMAT = \"${:,.2f}\"\n",
    "EUR_FORMAT = \"€{:,.2f}\"\n",
    "\n",
    "print(USD_FORMAT.format(principal), \" = \", EUR_FORMAT.format(principal/fx))"
   ]
  },
  {
   "cell_type": "code",
   "execution_count": 232,
   "metadata": {},
   "outputs": [
    {
     "name": "stdout",
     "output_type": "stream",
     "text": [
      "3.1416\n"
     ]
    }
   ],
   "source": [
    "pi = 3.1415926\n",
    "precision = 4\n",
    "print( \"{:.{}f}\".format( pi, precision ) )"
   ]
  },
  {
   "cell_type": "code",
   "execution_count": 233,
   "metadata": {},
   "outputs": [
    {
     "name": "stdout",
     "output_type": "stream",
     "text": [
      "For only 49.00 dollars!\n"
     ]
    }
   ],
   "source": [
    "txt = \"For only {price:.2f} dollars!\"\n",
    "print(txt.format(price = 49))"
   ]
  },
  {
   "cell_type": "code",
   "execution_count": 234,
   "metadata": {},
   "outputs": [
    {
     "name": "stdout",
     "output_type": "stream",
     "text": [
      "Oh Romeo, Romeo! wherefore art thou Romeo?\n"
     ]
    }
   ],
   "source": [
    "str = \"Oh {0}, {0}! wherefore art thou {0}?\".format(\"Romeo\")\n",
    "print(str)"
   ]
  },
  {
   "cell_type": "code",
   "execution_count": 235,
   "metadata": {},
   "outputs": [
    {
     "data": {
      "text/plain": [
       "'      49.000'"
      ]
     },
     "execution_count": 235,
     "metadata": {},
     "output_type": "execute_result"
    }
   ],
   "source": [
    "price=49\n",
    "format(price,\">12.3f\")"
   ]
  },
  {
   "cell_type": "markdown",
   "metadata": {},
   "source": [
    "<br>\n",
    "\n",
    "The % operator is also an option\n",
    "\n",
    "<br>\n"
   ]
  },
  {
   "cell_type": "code",
   "execution_count": 236,
   "metadata": {},
   "outputs": [
    {
     "data": {
      "text/plain": [
       "' 49.00 '"
      ]
     },
     "execution_count": 236,
     "metadata": {},
     "output_type": "execute_result"
    }
   ],
   "source": [
    "\" %0.02f \" % price"
   ]
  },
  {
   "cell_type": "code",
   "execution_count": 237,
   "metadata": {},
   "outputs": [
    {
     "data": {
      "text/plain": [
       "' 49 '"
      ]
     },
     "execution_count": 237,
     "metadata": {},
     "output_type": "execute_result"
    }
   ],
   "source": [
    "\" %s \" % price"
   ]
  },
  {
   "cell_type": "code",
   "execution_count": 238,
   "metadata": {},
   "outputs": [
    {
     "name": "stdout",
     "output_type": "stream",
     "text": [
      " 49 \n"
     ]
    }
   ],
   "source": [
    "print(\" %s \" % price)"
   ]
  },
  {
   "cell_type": "code",
   "execution_count": 239,
   "metadata": {},
   "outputs": [
    {
     "name": "stdout",
     "output_type": "stream",
     "text": [
      "My name is John, I'm 36\n"
     ]
    }
   ],
   "source": [
    "txt1 = \"My name is {fname}, I'm {age}\".format(fname = \"John\", age = 36)\n",
    "print(txt1)"
   ]
  },
  {
   "cell_type": "code",
   "execution_count": 240,
   "metadata": {},
   "outputs": [
    {
     "name": "stdout",
     "output_type": "stream",
     "text": [
      "My name is Tom, I'm 36\n"
     ]
    }
   ],
   "source": [
    "myname=\"Tom\"\n",
    "\n",
    "txt1 = \"My name is {}, I'm {}\".format(myname, 36)\n",
    "print(txt1)"
   ]
  },
  {
   "cell_type": "code",
   "execution_count": 241,
   "metadata": {},
   "outputs": [
    {
     "name": "stdout",
     "output_type": "stream",
     "text": [
      "We have 49       chickens.\n"
     ]
    }
   ],
   "source": [
    "#Use \"<\" to left-align the value:\n",
    "\n",
    "txt = \"We have {:<8} chickens.\"\n",
    "print(txt.format(49))"
   ]
  },
  {
   "cell_type": "code",
   "execution_count": 242,
   "metadata": {},
   "outputs": [
    {
     "name": "stdout",
     "output_type": "stream",
     "text": [
      "We have       22 chickens.\n"
     ]
    }
   ],
   "source": [
    "#Use \">\" to right-align the value:\n",
    "\n",
    "txt = \"We have {:>8} chickens.\"\n",
    "print(txt.format(22))"
   ]
  },
  {
   "cell_type": "code",
   "execution_count": 243,
   "metadata": {},
   "outputs": [
    {
     "name": "stdout",
     "output_type": "stream",
     "text": [
      "We have   1926   chickens.\n"
     ]
    }
   ],
   "source": [
    "#Use \"^\" to center the value:\n",
    "\n",
    "txt = \"We have {:^8} chickens.\"\n",
    "print(txt.format(1926))"
   ]
  },
  {
   "cell_type": "code",
   "execution_count": 245,
   "metadata": {},
   "outputs": [
    {
     "name": "stdout",
     "output_type": "stream",
     "text": [
      "We have 1.60% chickens.\n"
     ]
    }
   ],
   "source": [
    "#Use \"precision + %\" for percent:\n",
    "\n",
    "txt = \"We have {:0.2%} chickens.\"\n",
    "print(txt.format(.016))"
   ]
  },
  {
   "cell_type": "code",
   "execution_count": 246,
   "metadata": {},
   "outputs": [
    {
     "name": "stdout",
     "output_type": "stream",
     "text": [
      "6 bananas cost $1.74\n"
     ]
    }
   ],
   "source": [
    "print('%d %s cost $%.2f' % (6, 'bananas', 1.74))"
   ]
  },
  {
   "cell_type": "code",
   "execution_count": 247,
   "metadata": {},
   "outputs": [
    {
     "name": "stdout",
     "output_type": "stream",
     "text": [
      "This site is 100.00% securely encrypted!!\n"
     ]
    }
   ],
   "source": [
    "# Convert integers to float. Note: this time we explictly reference the index 0 and 1 \n",
    "print (\"This site is {0:0.2f}% securely {1}!!\".format(100, \"encrypted\"))"
   ]
  },
  {
   "cell_type": "code",
   "execution_count": 248,
   "metadata": {},
   "outputs": [
    {
     "name": "stdout",
     "output_type": "stream",
     "text": [
      "GeeksforGeeks, is the computer science portal for geeks   !\n"
     ]
    }
   ],
   "source": [
    "# To demonstrate spacing when  strings are passed as parameters \n",
    "print(\"{0:5}, is the computer science portal for {1:8}!\".format(\"GeeksforGeeks\", \"geeks\")) "
   ]
  },
  {
   "cell_type": "code",
   "execution_count": 249,
   "metadata": {},
   "outputs": [
    {
     "name": "stdout",
     "output_type": "stream",
     "text": [
      "     3     12   2123 112234\n"
     ]
    }
   ],
   "source": [
    "# give 6  spaces to each set of values \n",
    "print(\"{:6d} {:6d} {:6d} {:6d}\".format(3, 12, 2123, 112234))"
   ]
  },
  {
   "cell_type": "markdown",
   "metadata": {},
   "source": [
    "<br><br>\n",
    "\n",
    "<font size=\"4\" color=\"red\">Row Formats</font><a class=\"anchor\" id=\"rowformats\"></a>\n",
    "\n",
    "<br><br>\n",
    "\n",
    "2 other ways to format rows...\n",
    "\n",
    "<br><br>"
   ]
  },
  {
   "cell_type": "code",
   "execution_count": 12,
   "metadata": {},
   "outputs": [
    {
     "name": "stdout",
     "output_type": "stream",
     "text": [
      "| Andre Iguodala   |  4 |  3 |  7 |\n",
      "| Klay Thompson    |  5 |  0 | 21 |\n",
      "| Stephen Curry    |  5 |  8 | 36 |\n",
      "| Draymon Green    |  9 |  4 | 11 |\n",
      "| Andrew Bogut     |  3 |  0 |  2 |\n"
     ]
    }
   ],
   "source": [
    "starters = [\n",
    "    [ 'Andre Iguodala', 4, 3, 7 ],\n",
    "    [ 'Klay Thompson', 5, 0, 21 ],\n",
    "    [ 'Stephen Curry', 5, 8, 36 ],\n",
    "    [ 'Draymon Green', 9, 4, 11 ],\n",
    "    [ 'Andrew Bogut', 3, 0, 2 ],\n",
    "]\n",
    "\n",
    "# define format row\n",
    "row = \"| {player:<16s} | {reb:2d} | {ast:2d} | {pts:2d} |\".format\n",
    "\n",
    "for p in starters:\n",
    "    print(row(player=p[0], reb=p[1], ast=p[2], pts=p[3]))"
   ]
  },
  {
   "cell_type": "code",
   "execution_count": 19,
   "metadata": {},
   "outputs": [
    {
     "name": "stdout",
     "output_type": "stream",
     "text": [
      "Andre Iguodala        |      4       |           3  | \n",
      "Klay Thompson         |      5       |           0  | \n",
      "Stephen Curry         |      5       |           8  | \n",
      "Draymon Green         |      9       |           4  | \n",
      "Andrew Bogut          |      3       |           0  | \n"
     ]
    }
   ],
   "source": [
    "for p in starters:\n",
    "    print(p[0].ljust(20), \" | \", str(p[1]).center(10), \" | \", str(p[2]).rjust(10), \" | \")"
   ]
  },
  {
   "cell_type": "markdown",
   "metadata": {},
   "source": [
    "<br><br>\n",
    "\n",
    "<font size=\"4\" color=\"red\">Format Dates</font><a class=\"anchor\" id=\"dates\"></a>\n",
    "\n",
    "<br><br>"
   ]
  },
  {
   "cell_type": "markdown",
   "metadata": {},
   "source": [
    "<br>\n",
    "\n",
    "datetime is both a module and a class. You instantiate it and from there you can call its methods.\n",
    "\n",
    "<br> "
   ]
  },
  {
   "cell_type": "code",
   "execution_count": 251,
   "metadata": {},
   "outputs": [],
   "source": [
    "from datetime import datetime"
   ]
  },
  {
   "cell_type": "markdown",
   "metadata": {},
   "source": [
    "<br>\n",
    "\n",
    "Take a string and create a datetime instance\n",
    "\n",
    "<br>"
   ]
  },
  {
   "cell_type": "code",
   "execution_count": 252,
   "metadata": {},
   "outputs": [
    {
     "data": {
      "text/plain": [
       "datetime.datetime(2022, 7, 3, 0, 0)"
      ]
     },
     "execution_count": 252,
     "metadata": {},
     "output_type": "execute_result"
    }
   ],
   "source": [
    "dt_str=\"2022-07-03\"\n",
    "\n",
    "y = datetime.strptime(dt_str, \"%Y-%m-%d\")\n",
    "y"
   ]
  },
  {
   "cell_type": "markdown",
   "metadata": {},
   "source": [
    "<br> \n",
    "\n",
    "Create a datetime instance from the system time\n",
    "\n",
    "<br>"
   ]
  },
  {
   "cell_type": "code",
   "execution_count": 253,
   "metadata": {},
   "outputs": [
    {
     "name": "stdout",
     "output_type": "stream",
     "text": [
      "date and time: 07/03/2022, 11:00:48\n"
     ]
    }
   ],
   "source": [
    "now = datetime.now()        # class 'datetime.datetime\n",
    "\n",
    "date_time = now.strftime(\"%m/%d/%Y, %H:%M:%S\")\n",
    "\n",
    "print(\"date and time:\",date_time)"
   ]
  },
  {
   "cell_type": "markdown",
   "metadata": {},
   "source": [
    "<br>\n",
    "\n",
    "Upper case vs lower case implies full representations vs abbreviated.\n",
    "\n",
    "<br>"
   ]
  },
  {
   "cell_type": "code",
   "execution_count": 254,
   "metadata": {},
   "outputs": [
    {
     "data": {
      "text/plain": [
       "'Sunday  Sun      July Jul       07/03/22 03      00 07       2022     22'"
      ]
     },
     "execution_count": 254,
     "metadata": {},
     "output_type": "execute_result"
    }
   ],
   "source": [
    "datetime.strftime(y, \"%A  %a      %B %b       %D %d      %M %m       %Y     %y\")"
   ]
  },
  {
   "cell_type": "markdown",
   "metadata": {},
   "source": [
    "<br><br>\n",
    "\n",
    "<font size=\"4\" color=\"red\">Format Numbers</font><a class=\"anchor\" id=\"numbers\"></a>\n",
    "\n",
    "<br><br>"
   ]
  },
  {
   "cell_type": "code",
   "execution_count": 36,
   "metadata": {},
   "outputs": [
    {
     "name": "stdout",
     "output_type": "stream",
     "text": [
      "The price of the chicken is $19,286.00\n"
     ]
    }
   ],
   "source": [
    "txt = \"The price of the chicken is ${:,.2f}\"\n",
    "print(txt.format(19286))"
   ]
  },
  {
   "cell_type": "code",
   "execution_count": 17,
   "metadata": {},
   "outputs": [
    {
     "name": "stdout",
     "output_type": "stream",
     "text": [
      "pi = +3.14 \n",
      "pi = +3.14 \n",
      "Im = 19 \n",
      "pi = +3.141593 \n",
      "I have $12,300,000  dollars in my wallet right now\n",
      "But 80% of that is in foriegn currency\n",
      "But 80%                  of that is in foriegn currency\n"
     ]
    }
   ],
   "source": [
    "pi=3.1415926\n",
    "\n",
    "print(\"pi = {:+.2f} \".format(pi))     #Format float 2 decimal places with sign\n",
    "print(\"pi = +{:.2f} \".format(pi))\n",
    "\n",
    "myage=19\n",
    "print(\"Im = {:} \".format(myage))     # integers dont need anything\n",
    "\n",
    "print(\"pi = +{:0>2f} \".format(pi))\n",
    "\n",
    "txt=\"I have ${:,}  dollars in my wallet right now\"   # money format\n",
    "print(txt.format(12300000))\n",
    "\n",
    "\n",
    "txt=\"But {:.0%} of that is in foriegn currency\"   # percent\n",
    "print(txt.format(.80))\n",
    "\n",
    "txt=\"But {:<20.0%} of that is in foriegn currency\"   # left justify\n",
    "print(txt.format(.80))\n",
    "\n",
    "txt=\"But {:^20.0%} of that is in foriegn currency\"   # enter justify\n",
    "print(txt.format(.80))\n"
   ]
  },
  {
   "cell_type": "code",
   "execution_count": 42,
   "metadata": {},
   "outputs": [
    {
     "name": "stdout",
     "output_type": "stream",
     "text": [
      "1.112200E+27\n",
      "8.991189E-28\n"
     ]
    }
   ],
   "source": [
    "s=1112200000000000000000000000\n",
    "print(format(s,'E'))      # exponential\n",
    "print(format(1/s,'E')) "
   ]
  },
  {
   "cell_type": "markdown",
   "metadata": {},
   "source": [
    "<br>\n",
    "\n",
    "Computers cant accurately store $\\frac{1}{3}$ as $.333\\bar{3}$ because the 3's stretch to infinity.\n",
    "\n",
    "<br>\n",
    "\n",
    "On the other hand, they cant store every possible floating value as a fraction.\n",
    "\n",
    "<br>\n",
    "\n",
    "Strings are ineffcient. So are integers. \n",
    "\n",
    "<br>\n",
    "\n",
    "Floats are a datatype that is considered efficient and accurate and handles a wide range of magnitudes. \n",
    "\n",
    "<br>\n",
    "\n",
    "The decimal point *floats* by storing some exponent value that will be raised by base 10.\n",
    "\n",
    "<br>\n",
    "\n",
    "\n",
    "<table>\n",
    "  <thead>\n",
    "    <tr>\n",
    "      <th>Significand</th>\n",
    "      <th>Exponent</th>\n",
    "      <th>Scientific notation</th>\n",
    "      <th>Fixed-point value</th>\n",
    "    </tr>\n",
    "  </thead>\n",
    "  <tbody>\n",
    "    <tr>\n",
    "      <td>1.5</td>\n",
    "      <td>4</td>\n",
    "      <td>1.5 ⋅ 10<sup>4</sup></td>\n",
    "      <td>15000</td>\n",
    "    </tr>\n",
    "    <tr>\n",
    "      <td>-2.001</td>\n",
    "      <td>2</td>\n",
    "      <td>-2.001 ⋅ 10<sup>2</sup></td>\n",
    "      <td>-200.1</td>\n",
    "    </tr>\n",
    "    <tr>\n",
    "      <td>5</td>\n",
    "      <td>-3</td>\n",
    "      <td>5 ⋅ 10<sup>-3</sup></td>\n",
    "      <td>0.005</td>\n",
    "    </tr>\n",
    "    <tr>\n",
    "      <td>6.667</td>\n",
    "      <td>-11</td>\n",
    "      <td>6.667e-11</td>\n",
    "      <td>0.00000000006667</td>\n",
    "    </tr>\n",
    "  </tbody>\n",
    "</table>"
   ]
  },
  {
   "cell_type": "markdown",
   "metadata": {},
   "source": [
    "<br>\n",
    "\n",
    "Most languages deliberately  handle the formatting for you or provide datatypes like Money or Decimal.\n",
    "\n",
    "<br>"
   ]
  },
  {
   "cell_type": "code",
   "execution_count": 255,
   "metadata": {},
   "outputs": [
    {
     "name": "stdout",
     "output_type": "stream",
     "text": [
      "4.333333333333333\n",
      "4.33333333333333303727386009995825588703155517578125\n",
      "4.333\n",
      "4.33333333333333303727386009995825588703155517578125\n",
      "4.333333333333333\n"
     ]
    }
   ],
   "source": [
    "c = 4 + 1/3\n",
    "\n",
    "print(c)\n",
    "print(Decimal(c))  \n",
    "\n",
    "from decimal import *\n",
    "\n",
    "with localcontext() as ctx:\n",
    "    ctx.prec=3\n",
    "    print(Decimal(c))      \n",
    "    print(c)"
   ]
  },
  {
   "cell_type": "markdown",
   "metadata": {},
   "source": [
    "round() negative to specify how many zeroes at the end"
   ]
  },
  {
   "cell_type": "code",
   "execution_count": 23,
   "metadata": {},
   "outputs": [
    {
     "name": "stdout",
     "output_type": "stream",
     "text": [
      "12345678.877\n",
      "12345678.9\n",
      "12345679.0\n",
      "12345680.0\n",
      "12346000.0\n"
     ]
    }
   ],
   "source": [
    "c=12345678.87654321\n",
    "print(round(c,3))\n",
    "print(round(c,1))\n",
    "print(round(c,0))\n",
    "print(round(c,-1))\n",
    "print(round(c,-3))"
   ]
  },
  {
   "cell_type": "markdown",
   "metadata": {},
   "source": [
    "\n",
    "<br><br>\n",
    "\n",
    "<center><font size=\"5\" color=\"blue\"><u>Strings</u></font></center><a class=\"anchor\" id=\"strings\"></a>\n",
    "\n",
    "<br><br>"
   ]
  },
  {
   "cell_type": "markdown",
   "metadata": {},
   "source": [
    "<br>\n",
    "\n",
    "Type `dir(str)`  to see all methods of the str class.\n",
    "\n",
    "- `capitalize()`  CAPITALIZES THE FIRST \n",
    "- `title()`  CAPITALIZES EACH WORD\n",
    "- `upper()`   CAPITALIZES EVERY LETTER\n",
    "\n",
    "- `format()`\n",
    "- `strip()`    ALSO LSTRIP AND RSTRIP...\n",
    "- `replace()`\n",
    "- `join()`         COLLAPSE AN ARRAY TO A SING STRING\n",
    "\n",
    "- `isnumeric()`        RETURNS TRUE OR FALSE\n",
    "- `startswith()`\n",
    "- `endswith()`\n",
    "\n",
    "<br>\n"
   ]
  },
  {
   "cell_type": "code",
   "execution_count": 7,
   "metadata": {},
   "outputs": [
    {
     "data": {
      "text/plain": [
       "'the rain in spain falls mainly on the plain'"
      ]
     },
     "execution_count": 7,
     "metadata": {},
     "output_type": "execute_result"
    }
   ],
   "source": [
    "txt=\"the rain in spain falls manly on the plain\"\n",
    "\n",
    "txt.replace(\"manly\",\"mainly\")"
   ]
  },
  {
   "cell_type": "code",
   "execution_count": 258,
   "metadata": {},
   "outputs": [
    {
     "data": {
      "text/plain": [
       "'T'"
      ]
     },
     "execution_count": 258,
     "metadata": {},
     "output_type": "execute_result"
    }
   ],
   "source": [
    "txt[0].upper()"
   ]
  },
  {
   "cell_type": "code",
   "execution_count": 259,
   "metadata": {},
   "outputs": [
    {
     "data": {
      "text/plain": [
       "'The rain in spain falls manly on the plain'"
      ]
     },
     "execution_count": 259,
     "metadata": {},
     "output_type": "execute_result"
    }
   ],
   "source": [
    "txt.capitalize()         # capitalize the first "
   ]
  },
  {
   "cell_type": "code",
   "execution_count": 260,
   "metadata": {},
   "outputs": [
    {
     "data": {
      "text/plain": [
       "'The Rain In Spain Falls Manly On The Plain'"
      ]
     },
     "execution_count": 260,
     "metadata": {},
     "output_type": "execute_result"
    }
   ],
   "source": [
    "txt.title()             # capitalize every word "
   ]
  },
  {
   "cell_type": "code",
   "execution_count": 261,
   "metadata": {},
   "outputs": [
    {
     "data": {
      "text/plain": [
       "'THE RAIN IN SPAIN FALLS MANLY ON THE PLAIN'"
      ]
     },
     "execution_count": 261,
     "metadata": {},
     "output_type": "execute_result"
    }
   ],
   "source": [
    "txt.upper()            # capitalize every letter"
   ]
  },
  {
   "cell_type": "markdown",
   "metadata": {},
   "source": [
    "<br>\n",
    "\n",
    "The translate function \n",
    "\n",
    "<br>"
   ]
  },
  {
   "cell_type": "code",
   "execution_count": 9,
   "metadata": {},
   "outputs": [
    {
     "data": {
      "text/plain": [
       "'the_rXXi_i_spXXi_fXXlls_mXXly_o_the_plXXi'"
      ]
     },
     "execution_count": 9,
     "metadata": {},
     "output_type": "execute_result"
    }
   ],
   "source": [
    "remap = { \n",
    "            ord('a') : 'XX',\n",
    "            ord(' ') : '_',\n",
    "            ord('n') : None   # remove\n",
    "         }\n",
    "\n",
    "txt.translate(remap)"
   ]
  },
  {
   "cell_type": "markdown",
   "metadata": {},
   "source": [
    "<br>\n",
    "\n",
    "The join function \n",
    "\n",
    "<br>"
   ]
  },
  {
   "cell_type": "code",
   "execution_count": 20,
   "metadata": {},
   "outputs": [
    {
     "data": {
      "text/plain": [
       "'The Rain In Maine'"
      ]
     },
     "execution_count": 20,
     "metadata": {},
     "output_type": "execute_result"
    }
   ],
   "source": [
    "words = ['The','Rain','In','Maine']\n",
    "' '.join(words)"
   ]
  },
  {
   "cell_type": "code",
   "execution_count": 10,
   "metadata": {},
   "outputs": [
    {
     "data": {
      "text/plain": [
       "'329'"
      ]
     },
     "execution_count": 10,
     "metadata": {},
     "output_type": "execute_result"
    }
   ],
   "source": [
    "txt=\"00000329\"\n",
    "txt.lstrip('0')        # remove leading zeros"
   ]
  },
  {
   "cell_type": "markdown",
   "metadata": {},
   "source": [
    "<br>\n",
    "<br><br>\n",
    "\n",
    "<font size=\"4\" color=\"red\">The Regex Class (re)</font><a class=\"anchor\" id=\"re\"></a>\n",
    "\n",
    "<br><br>"
   ]
  },
  {
   "cell_type": "code",
   "execution_count": 262,
   "metadata": {},
   "outputs": [
    {
     "data": {
      "text/plain": [
       "['the', 'rain', 'in', 'spain']"
      ]
     },
     "execution_count": 262,
     "metadata": {},
     "output_type": "execute_result"
    }
   ],
   "source": [
    "import re\n",
    "\n",
    "txt=\"the rain in spain\"\n",
    "\n",
    "re.split(\" \", txt)"
   ]
  },
  {
   "cell_type": "code",
   "execution_count": 263,
   "metadata": {},
   "outputs": [
    {
     "data": {
      "text/plain": [
       "<re.Match object; span=(0, 17), match='the rain in spain'>"
      ]
     },
     "execution_count": 263,
     "metadata": {},
     "output_type": "execute_result"
    }
   ],
   "source": [
    "x = re.search(\"^the.*spain$\", txt)      # re.Match object;\n",
    "x"
   ]
  },
  {
   "cell_type": "code",
   "execution_count": 264,
   "metadata": {},
   "outputs": [
    {
     "name": "stdout",
     "output_type": "stream",
     "text": [
      "The first white-space character is located in position: 3\n"
     ]
    }
   ],
   "source": [
    "# return the position of the search\n",
    "x = re.search(\"\\s\", txt)\n",
    "print(\"The first white-space character is located in position:\", x.start())\n"
   ]
  },
  {
   "cell_type": "code",
   "execution_count": 265,
   "metadata": {},
   "outputs": [
    {
     "data": {
      "text/plain": [
       "'the9rain9in9spain'"
      ]
     },
     "execution_count": 265,
     "metadata": {},
     "output_type": "execute_result"
    }
   ],
   "source": [
    "# substitute ( replace ) space with 9\n",
    "x = re.sub(\"\\s\", \"9\", txt)\n",
    "x"
   ]
  },
  {
   "cell_type": "code",
   "execution_count": 266,
   "metadata": {},
   "outputs": [
    {
     "data": {
      "text/plain": [
       "['23', ' 32', ' 67', ' 00', '99']"
      ]
     },
     "execution_count": 266,
     "metadata": {},
     "output_type": "execute_result"
    }
   ],
   "source": [
    "txt=\"23, 32, 67, 00,99\"\n",
    "\n",
    "re.split(\",\", txt)"
   ]
  },
  {
   "cell_type": "markdown",
   "metadata": {},
   "source": [
    "<br>\n",
    "\n",
    "strings are iterable, you can reference by index\n",
    "\n",
    "<br>"
   ]
  },
  {
   "cell_type": "code",
   "execution_count": 267,
   "metadata": {},
   "outputs": [
    {
     "name": "stdout",
     "output_type": "stream",
     "text": [
      "a-p-p-l-e-"
     ]
    }
   ],
   "source": [
    "app_str=\"apple\"\n",
    "for x in range(len(app_str)):\n",
    "  print(app_str[x], end=\"-\")"
   ]
  },
  {
   "cell_type": "code",
   "execution_count": null,
   "metadata": {},
   "outputs": [],
   "source": []
  },
  {
   "cell_type": "code",
   "execution_count": 268,
   "metadata": {},
   "outputs": [
    {
     "name": "stdout",
     "output_type": "stream",
     "text": [
      "23, 32, 67, 00,99!\n"
     ]
    }
   ],
   "source": [
    "new_txt=txt+\"!\"\n",
    "print(new_txt)"
   ]
  },
  {
   "cell_type": "markdown",
   "metadata": {},
   "source": [
    "<br>\n",
    "\n",
    "\"r\" notation to interpret backslashes as strings\n",
    "\n",
    "<br>\n",
    "\n",
    "\"f\" notation to translate non string to string"
   ]
  },
  {
   "cell_type": "code",
   "execution_count": 285,
   "metadata": {},
   "outputs": [
    {
     "name": "stdout",
     "output_type": "stream",
     "text": [
      "path is C:\\_InProgress\\BackUp\\\\\n",
      "number is num\n"
     ]
    }
   ],
   "source": [
    "path=r'C:\\_InProgress\\BackUp\\\\'\n",
    "print(\"path is \" + path )\n",
    "num=15\n",
    "print(\"number is \" + f'num')"
   ]
  },
  {
   "cell_type": "markdown",
   "metadata": {},
   "source": [
    "<br>\n",
    "\n",
    "the <b><u>codecs</u></b> and <b><u>unicodedata</u></b> modules help with non-ascii characters\n",
    "\n",
    "<br><br><br><br>"
   ]
  },
  {
   "cell_type": "markdown",
   "metadata": {},
   "source": [
    "\n",
    "<br><br>\n",
    "\n",
    "<center><font size=\"5\" color=\"blue\"><u>Sequences</u></font></center><a class=\"anchor\" id=\"sequences\"></a>\n",
    "\n",
    "<br><br>\n",
    "\n",
    "<font size=\"4\" color=\"red\">range arange linspace</font><a class=\"anchor\" id=\"range\"></a>\n",
    "\n",
    "<br><br>"
   ]
  },
  {
   "cell_type": "markdown",
   "metadata": {},
   "source": [
    "\n",
    "<br>\n",
    "\n",
    "*range* works ok for for loops\n",
    "\n",
    "<br>\n"
   ]
  },
  {
   "cell_type": "code",
   "execution_count": 269,
   "metadata": {},
   "outputs": [
    {
     "name": "stdout",
     "output_type": "stream",
     "text": [
      "0 1 2 "
     ]
    }
   ],
   "source": [
    "x = range(3) \n",
    "for y in x:\n",
    "    print(y, end= \" \")\n"
   ]
  },
  {
   "cell_type": "code",
   "execution_count": 270,
   "metadata": {},
   "outputs": [
    {
     "data": {
      "text/plain": [
       "array([-1.69673061, -1.68719022, -1.33079786, -0.50704508, -0.10992157,\n",
       "        0.26971566,  0.39473315,  0.62329665,  0.80784299,  1.67293077])"
      ]
     },
     "execution_count": 270,
     "metadata": {},
     "output_type": "execute_result"
    }
   ],
   "source": [
    "np.sort(np.random.randn(10))"
   ]
  },
  {
   "cell_type": "markdown",
   "metadata": {},
   "source": [
    "<br>\n",
    "\n",
    "The typical parameters for *linspace* are start,stop,num. Returns a numpy.ndarray\n",
    "\n",
    "num is the <font size=\"4\"><b><i>number of steps</i></b></font>\n",
    "\n",
    "<br>"
   ]
  },
  {
   "cell_type": "code",
   "execution_count": 271,
   "metadata": {},
   "outputs": [
    {
     "data": {
      "text/plain": [
       "array([1. , 1.5, 2. , 2.5, 3. ])"
      ]
     },
     "execution_count": 271,
     "metadata": {},
     "output_type": "execute_result"
    }
   ],
   "source": [
    "np.linspace(1,3,5)         # i dont know what the step size is, i just know i want 5 steps"
   ]
  },
  {
   "cell_type": "markdown",
   "metadata": {},
   "source": [
    "<br>\n",
    "\n",
    "The typical parameters for *arange* are start,stop,step. Returns a numpy.ndarray\n",
    "\n",
    "step is the <font size=\"4\"><b><i>size of the step</i></b></font>\n",
    "\n",
    "<br>\n",
    "\n",
    "note this is equivalent to `range(1,12,2)`\n",
    "\n",
    "<br>"
   ]
  },
  {
   "cell_type": "code",
   "execution_count": 272,
   "metadata": {},
   "outputs": [
    {
     "data": {
      "text/plain": [
       "array([ 1,  3,  5,  7,  9, 11])"
      ]
     },
     "execution_count": 272,
     "metadata": {},
     "output_type": "execute_result"
    }
   ],
   "source": [
    "np.arange(1,12,2)       # i dont know how many steps i need i just know i want to step by 2"
   ]
  },
  {
   "cell_type": "markdown",
   "metadata": {},
   "source": [
    "<br><br>\n",
    "\n",
    "<font size=\"4\" color=\"blue\">For Loops</font><a class=\"anchor\" id=\"forloops\"></a>\n",
    "\n",
    "<br><br>\n",
    "\n",
    "You can loop thru numpy arrays, tuples, lists, etc.."
   ]
  },
  {
   "cell_type": "code",
   "execution_count": 273,
   "metadata": {},
   "outputs": [
    {
     "name": "stdout",
     "output_type": "stream",
     "text": [
      "apple , banana , cherry , "
     ]
    }
   ],
   "source": [
    "fruits = [\"apple\", \"banana\", \"cherry\"]    # list\n",
    "for x in fruits:\n",
    "  print(x, end=\" , \")"
   ]
  },
  {
   "cell_type": "code",
   "execution_count": 274,
   "metadata": {},
   "outputs": [
    {
     "name": "stdout",
     "output_type": "stream",
     "text": [
      "1 , 3 , 5 , 7 , 9 , 11 , "
     ]
    }
   ],
   "source": [
    "for x in np.arange(1,12,2):\n",
    "  print(x, end=\" , \")"
   ]
  },
  {
   "cell_type": "markdown",
   "metadata": {},
   "source": [
    "<br>\n",
    "even a string\n",
    "<br>"
   ]
  },
  {
   "cell_type": "code",
   "execution_count": 275,
   "metadata": {},
   "outputs": [
    {
     "name": "stdout",
     "output_type": "stream",
     "text": [
      "b-a-n-a-n-a-"
     ]
    }
   ],
   "source": [
    "for x in \"banana\":          \n",
    "  print(x, end=\"-\")"
   ]
  },
  {
   "cell_type": "markdown",
   "metadata": {},
   "source": [
    "<br>\n",
    "The range function is your basic for x = 1 to 10 construct but note the default is 0 thru n-1\n",
    "<br>"
   ]
  },
  {
   "cell_type": "code",
   "execution_count": 276,
   "metadata": {},
   "outputs": [
    {
     "name": "stdout",
     "output_type": "stream",
     "text": [
      "0,1,2,3,4,"
     ]
    }
   ],
   "source": [
    "for i in range(5):\n",
    "    print(i, end=\",\")"
   ]
  },
  {
   "cell_type": "code",
   "execution_count": 277,
   "metadata": {},
   "outputs": [
    {
     "name": "stdout",
     "output_type": "stream",
     "text": [
      "1,2,3,4,5,6,7,8,9,10,"
     ]
    }
   ],
   "source": [
    "for i in range(1,11):       # for x = 1 to 10\n",
    "    print(i, end=\",\")"
   ]
  },
  {
   "cell_type": "code",
   "execution_count": 278,
   "metadata": {},
   "outputs": [
    {
     "name": "stdout",
     "output_type": "stream",
     "text": [
      "1,3,5,7,9,11,"
     ]
    }
   ],
   "source": [
    "for i in range(1,12,2):       # for x = 1 to 10\n",
    "    print(i, end=\",\")"
   ]
  },
  {
   "cell_type": "markdown",
   "metadata": {},
   "source": [
    "<br>\n",
    "\n",
    "above is equivalient to np.arange(1,12,2)\n",
    "\n",
    "<br>\n",
    "\n",
    "range and arange may seem similar. \n",
    "<pre>\n",
    "    arange returns an numpy array so each step is stored in memory\n",
    "    range returns a range (iterator) object. (each step is not in memory)\n",
    "    arange has some extra controls, you can specify dtype=float\n",
    "</pre>\n",
    "\n",
    "<br>\n"
   ]
  },
  {
   "cell_type": "markdown",
   "metadata": {},
   "source": [
    "<br><br>\n",
    "\n",
    "continue and break and pass are all keywords to continue, break and pass\n",
    "\n",
    "<br><br>"
   ]
  },
  {
   "cell_type": "code",
   "execution_count": 279,
   "metadata": {},
   "outputs": [
    {
     "name": "stdout",
     "output_type": "stream",
     "text": [
      "Last Letter : y\n"
     ]
    }
   ],
   "source": [
    "for letter in 'hey':\n",
    "    pass\n",
    "print('Last Letter :', letter)"
   ]
  },
  {
   "cell_type": "markdown",
   "metadata": {},
   "source": [
    "<br>\n",
    "\n",
    "for loops and while loops are essentially wrappers over the iter() and next() functions that operate\n",
    "on *iterable* objects, which include lists, tuples, sets, dictionaries and strings\n",
    "\n",
    "<br>"
   ]
  }
 ],
 "metadata": {
  "kernelspec": {
   "display_name": "Python 3",
   "language": "python",
   "name": "python3"
  },
  "language_info": {
   "codemirror_mode": {
    "name": "ipython",
    "version": 3
   },
   "file_extension": ".py",
   "mimetype": "text/x-python",
   "name": "python",
   "nbconvert_exporter": "python",
   "pygments_lexer": "ipython3",
   "version": "3.8.5"
  },
  "toc": {
   "base_numbering": 1,
   "nav_menu": {},
   "number_sections": true,
   "sideBar": true,
   "skip_h1_title": false,
   "title_cell": "Table of Contents",
   "title_sidebar": "Contents",
   "toc_cell": false,
   "toc_position": {},
   "toc_section_display": true,
   "toc_window_display": false
  },
  "varInspector": {
   "cols": {
    "lenName": 16,
    "lenType": 16,
    "lenVar": 40
   },
   "kernels_config": {
    "python": {
     "delete_cmd_postfix": "",
     "delete_cmd_prefix": "del ",
     "library": "var_list.py",
     "varRefreshCmd": "print(var_dic_list())"
    },
    "r": {
     "delete_cmd_postfix": ") ",
     "delete_cmd_prefix": "rm(",
     "library": "var_list.r",
     "varRefreshCmd": "cat(var_dic_list()) "
    }
   },
   "types_to_exclude": [
    "module",
    "function",
    "builtin_function_or_method",
    "instance",
    "_Feature"
   ],
   "window_display": false
  }
 },
 "nbformat": 4,
 "nbformat_minor": 4
}
